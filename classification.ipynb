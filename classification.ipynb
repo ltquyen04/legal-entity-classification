{
  "cells": [
    {
      "cell_type": "markdown",
      "id": "5d5ce095",
      "metadata": {
        "id": "5d5ce095"
      },
      "source": [
        "# Import thư viện"
      ]
    },
    {
      "cell_type": "code",
      "execution_count": 30,
      "id": "21993310",
      "metadata": {
        "id": "21993310"
      },
      "outputs": [],
      "source": [
        "import pandas as pd\n",
        "import re\n",
        "import numpy as np\n",
        "import time\n",
        "import os, json\n",
        "import torch\n",
        "import torch.nn as nn\n",
        "import torch.nn.functional as F\n",
        "\n",
        "from tqdm import tqdm\n",
        "from sklearn.model_selection import train_test_split, StratifiedKFold\n",
        "from sklearn.preprocessing import LabelEncoder\n",
        "from sklearn.metrics import confusion_matrix, classification_report, accuracy_score, f1_score\n",
        "from sklearn.utils.class_weight import compute_class_weight\n",
        "from underthesea import word_tokenize\n",
        "\n",
        "import seaborn as sns\n",
        "import matplotlib.pyplot as plt\n",
        "from torch.utils.data import Dataset, DataLoader\n",
        "from torch.optim import AdamW\n",
        "from transformers import MT5Tokenizer, MT5ForConditionalGeneration, AutoTokenizer, AutoModel, AutoModelForSequenceClassification, AutoModelForSeq2SeqLM, get_scheduler, get_linear_schedule_with_warmup\n"
      ]
    },
    {
      "cell_type": "code",
      "execution_count": 2,
      "id": "e26d79bc",
      "metadata": {
        "colab": {
          "base_uri": "https://localhost:8080/"
        },
        "id": "e26d79bc",
        "outputId": "26a414a0-8092-449b-f6f1-b85f80ffa306"
      },
      "outputs": [
        {
          "name": "stdout",
          "output_type": "stream",
          "text": [
            "12.9\n",
            "Using device: cuda\n"
          ]
        }
      ],
      "source": [
        "# Kiểm tra chương trình đang sử dụng thiết bị nào (CPU hay GPU)\n",
        "device = torch.device(\"cuda\" if torch.cuda.is_available() else \"cpu\")\n",
        "print(torch.version.cuda)\n",
        "print(\"Using device:\", device)"
      ]
    },
    {
      "cell_type": "markdown",
      "id": "600dd1b1",
      "metadata": {
        "id": "600dd1b1"
      },
      "source": [
        "# 1. Xử lí dữ liệu\n",
        "## 1.1 Kiểm tra chính tả\n",
        "Tách từ kết hợp tra cứu từ điển để tìm các từ bị dính liền hoặc sai chỉnh tả"
      ]
    },
    {
      "cell_type": "code",
      "execution_count": null,
      "id": "39d9a363",
      "metadata": {
        "id": "39d9a363",
        "outputId": "94230596-2f2f-41fb-9c01-c28bcc7f16bd"
      },
      "outputs": [
        {
          "name": "stdout",
          "output_type": "stream",
          "text": [
            "trú     1700\n",
            ",       1578\n",
            ".       1539\n",
            "tạm     1292\n",
            "tôi     1259\n",
            "        ... \n",
            "DN         1\n",
            "cổng       1\n",
            "mở         1\n",
            "quỳ        1\n",
            "m          1\n",
            "Name: count, Length: 1541, dtype: int64\n"
          ]
        }
      ],
      "source": [
        "df = pd.read_excel('cleaned_data.xlsx')\n",
        "\n",
        "def split_punctuations(tokens):\n",
        "    result = []\n",
        "    for tok in tokens:\n",
        "        parts = re.findall(r'[!?.,;:]|\\w+|[^\\s\\w]', tok, flags=re.UNICODE)\n",
        "        result.extend(parts)\n",
        "    return result\n",
        "\n",
        "raw_word_list = word_tokenize(' '.join(df['question_note'].tolist()))\n",
        "word_list = split_punctuations(raw_word_list)\n",
        "word_freq = pd.Series(word_list).value_counts()\n",
        "print(word_freq)"
      ]
    },
    {
      "cell_type": "code",
      "execution_count": null,
      "id": "07c94db1",
      "metadata": {
        "id": "07c94db1",
        "outputId": "890f1730-a239-49c1-d40f-9670e5454ec4"
      },
      "outputs": [
        {
          "name": "stdout",
          "output_type": "stream",
          "text": [
            "Tổng số từ: 78270\n",
            "        word                             source\n",
            "0          a  [hongocduc, tudientv, wiktionary]\n",
            "1  a-ba-giua                        [hongocduc]\n",
            "2   a-ba-toa                        [hongocduc]\n",
            "3     a bàng                        [hongocduc]\n",
            "4     a bung            [hongocduc, wiktionary]\n",
            "True\n",
            "False\n"
          ]
        }
      ],
      "source": [
        "\n",
        "def load_dictionary(folder_path):\n",
        "    records = []\n",
        "    for filename in os.listdir(folder_path):\n",
        "        if filename.endswith(\".txt\"):\n",
        "            with open(os.path.join(folder_path, filename), \"r\", encoding=\"utf-8\") as f:\n",
        "                for line in f:\n",
        "                    try:\n",
        "                        obj = json.loads(line.strip())\n",
        "                        if \"text\" in obj and \"source\" in obj:\n",
        "                            records.append({\"word\": obj[\"text\"].lower(), \"source\": obj[\"source\"]})\n",
        "                    except:\n",
        "                        continue\n",
        "    return pd.DataFrame(records).drop_duplicates(subset=\"word\").reset_index(drop=True)\n",
        "\n",
        "def check(word, df_dict):\n",
        "    return word.lower() in set(df_dict[\"word\"])\n",
        "\n",
        "df_dict = load_dictionary(\"dictionary\")\n",
        "print(\"Tổng số từ:\", len(df_dict))\n",
        "print(df_dict.head())\n",
        "\n",
        "print(check(\"Hà nội\", df_dict))\n",
        "print(check(\"thànhphố\", df_dict))\n"
      ]
    },
    {
      "cell_type": "code",
      "execution_count": null,
      "id": "1427555e",
      "metadata": {
        "id": "1427555e"
      },
      "outputs": [],
      "source": [
        "def save_oov_words(word_list, df_dict, output_file):\n",
        "    vocab = set(df_dict[\"word\"])\n",
        "    oov = [w.lower() for w in word_list if w.lower() not in vocab]\n",
        "    oov_unique = sorted(set(oov))\n",
        "    with open(output_file, \"w\", encoding=\"utf-8\") as f:\n",
        "        for w in oov_unique:\n",
        "            f.write(w + \"\\n\")\n",
        "    return oov_unique\n",
        "\n",
        "oov_words = save_oov_words(word_list, df_dict, \"oov_words.txt\")\n"
      ]
    },
    {
      "cell_type": "markdown",
      "id": "9b33c261",
      "metadata": {
        "id": "9b33c261"
      },
      "source": [
        "Dựa vào danh sách các từ trong file oov_words.txt để tìm các từ sai chính tả Tiếng Việt và sửa lại, chương trình được viết trong fix_word.py"
      ]
    },
    {
      "cell_type": "markdown",
      "id": "4f50442f",
      "metadata": {
        "id": "4f50442f"
      },
      "source": [
        "# 2. Data-augmentation"
      ]
    },
    {
      "cell_type": "markdown",
      "id": "d6042de8",
      "metadata": {
        "id": "d6042de8"
      },
      "source": [
        "## 2.0 Chuẩn bị\n",
        "Chuẩn bị dữ liệu"
      ]
    },
    {
      "cell_type": "code",
      "execution_count": null,
      "id": "93574f98",
      "metadata": {
        "id": "93574f98",
        "outputId": "06bca6dc-d3bf-415f-f6ee-e60a141e357d"
      },
      "outputs": [
        {
          "name": "stdout",
          "output_type": "stream",
          "text": [
            "VN_lớn_hơn_14: hiện có 837, số lượng mong muốn 837\n",
            "NN: hiện có 281, số lượng mong muốn 562\n",
            "VN_bé_hơn_14: hiện có 32, số lượng mong muốn 640\n",
            "Không có thông tin: hiện có 11, số lượng mong muốn 396\n"
          ]
        }
      ],
      "source": [
        "df = pd.read_excel(\"cleaned_data.xlsx\")\n",
        "\n",
        "target_bt = {\n",
        "    \"VN_lớn_hơn_14\": 0,\n",
        "    \"NN\": 0,\n",
        "    \"VN_bé_hơn_14\": 5,\n",
        "    \"Không có thông tin\": 10\n",
        "}\n",
        "\n",
        "target_phr = {\n",
        "    \"VN_lớn_hơn_14\": 0,\n",
        "    \"NN\": 1,\n",
        "    \"VN_bé_hơn_14\": 14,\n",
        "    \"Không có thông tin\": 25\n",
        "}\n",
        "\n",
        "labels = [\n",
        "    \"VN_lớn_hơn_14\",\n",
        "    \"NN\",\n",
        "    \"VN_bé_hơn_14\",\n",
        "    \"Không có thông tin\",\n",
        "]\n",
        "\n",
        "for label in labels:\n",
        "    cur = len(df[df[\"Subject\"] == label])\n",
        "    expect = cur + cur * (target_bt[label] + target_phr[label])\n",
        "    print(f\"{label}: hiện có {cur}, số lượng mong muốn {expect}\")\n"
      ]
    },
    {
      "cell_type": "markdown",
      "id": "b9542142",
      "metadata": {
        "id": "b9542142"
      },
      "source": [
        "Hàm Embedding Similarity"
      ]
    },
    {
      "cell_type": "code",
      "execution_count": null,
      "id": "15cf185a",
      "metadata": {
        "id": "15cf185a"
      },
      "outputs": [],
      "source": [
        "embed_tokenizer = AutoTokenizer.from_pretrained(\"keepitreal/vietnamese-sbert\")\n",
        "embed_model = AutoModel.from_pretrained(\"keepitreal/vietnamese-sbert\").to(device)\n",
        "embed_model.eval()\n",
        "\n",
        "def get_embedding(text):\n",
        "    inputs = embed_tokenizer(text, return_tensors=\"pt\", truncation=True, padding=True)\n",
        "    with torch.no_grad():\n",
        "        model_out = embed_model(**inputs)\n",
        "    emb = F.normalize(model_out.last_hidden_state.mean(dim=1), p=2, dim=1)\n",
        "    return emb\n",
        "\n",
        "def cosine_similarity(text1, text2):\n",
        "    emb1 = get_embedding(text1)\n",
        "    emb2 = get_embedding(text2)\n",
        "    return F.cosine_similarity(emb1, emb2).item()"
      ]
    },
    {
      "cell_type": "markdown",
      "id": "d26a74c5",
      "metadata": {
        "id": "d26a74c5"
      },
      "source": [
        "## 2.1 Back-translating"
      ]
    },
    {
      "cell_type": "code",
      "execution_count": null,
      "id": "34f14658",
      "metadata": {
        "id": "34f14658",
        "outputId": "273779bf-0872-43d4-cd7e-93c25957f27c"
      },
      "outputs": [
        {
          "name": "stdout",
          "output_type": "stream",
          "text": [
            "\n",
            "🔹 Generating for label VN_lớn_hơn_14: 837 originals × 0 each\n"
          ]
        },
        {
          "name": "stderr",
          "output_type": "stream",
          "text": [
            "VN_bé_hơn_14:   0%|          | 0/32 [00:38<?, ?it/s]s]\n",
            "VN_lớn_hơn_14: 100%|██████████| 837/837 [00:00<00:00, 20925.52it/s]\n"
          ]
        },
        {
          "name": "stdout",
          "output_type": "stream",
          "text": [
            "\n",
            "🔹 Generating for label NN: 281 originals × 0 each\n"
          ]
        },
        {
          "name": "stderr",
          "output_type": "stream",
          "text": [
            "NN: 100%|██████████| 281/281 [00:00<00:00, 20058.88it/s]\n"
          ]
        },
        {
          "name": "stdout",
          "output_type": "stream",
          "text": [
            "\n",
            "🔹 Generating for label VN_bé_hơn_14: 32 originals × 5 each\n"
          ]
        },
        {
          "name": "stderr",
          "output_type": "stream",
          "text": [
            "VN_bé_hơn_14: 100%|██████████| 32/32 [24:40<00:00, 46.27s/it, sample=5/5, total=137, attempt=2/10] \n"
          ]
        },
        {
          "name": "stdout",
          "output_type": "stream",
          "text": [
            "\n",
            "🔹 Generating for label Không có thông tin: 11 originals × 10 each\n"
          ]
        },
        {
          "name": "stderr",
          "output_type": "stream",
          "text": [
            "Không có thông tin: 100%|██████████| 11/11 [13:26<00:00, 73.29s/it, sample=10/10, total=109, attempt=7/20]"
          ]
        },
        {
          "name": "stdout",
          "output_type": "stream",
          "text": [
            "✅ Back-translation hoàn tất: 246 câu sinh thêm.\n"
          ]
        },
        {
          "name": "stderr",
          "output_type": "stream",
          "text": [
            "\n"
          ]
        }
      ],
      "source": [
        "translate_model_name = \"VietAI/envit5-translation\"\n",
        "translate_tokenizer = AutoTokenizer.from_pretrained(translate_model_name)\n",
        "translate_model = AutoModelForSeq2SeqLM.from_pretrained(translate_model_name).to(device)\n",
        "\n",
        "def translate_envit5(text, num_return_sequences=3, max_length=256, temperature=0.9, top_k=50, top_p=0.9):\n",
        "    inputs = translate_tokenizer(text, return_tensors=\"pt\", padding=True).to(device)\n",
        "    with torch.no_grad():\n",
        "        outputs = translate_model.generate(\n",
        "            **inputs,\n",
        "            max_length=max_length,\n",
        "            do_sample=True,\n",
        "            top_k=top_k,\n",
        "            top_p=top_p,\n",
        "            temperature=temperature,\n",
        "            num_return_sequences=num_return_sequences,\n",
        "            repetition_penalty=1.2,\n",
        "            no_repeat_ngram_size=2,\n",
        "            )\n",
        "    return [translate_tokenizer.decode(o, skip_special_tokens=True).strip() for o in outputs]\n",
        "\n",
        "\n",
        "def back_translate(text, n=3):\n",
        "    mid_texts = translate_envit5(text, num_return_sequences=n)\n",
        "    results = []\n",
        "    for mid in mid_texts:\n",
        "        back_texts = translate_envit5(mid, num_return_sequences=1)\n",
        "        results.extend(back_texts)\n",
        "    return list(set(results))  # loại trùng\n",
        "\n",
        "bt_results = []\n",
        "\n",
        "for label in labels:\n",
        "    k_per_sample = target_bt[label]\n",
        "    label_df = df[df[\"Subject\"] == label]\n",
        "    n_rows = len(label_df)\n",
        "    print(f\"\\n🔹 Generating for label {label}: {n_rows} originals × {k_per_sample} each\")\n",
        "\n",
        "    bar = tqdm(total=n_rows, desc=f\"{label}\", position=0)\n",
        "    total_valid = 0\n",
        "\n",
        "    for _, row in label_df.iterrows():\n",
        "        text = row[\"question_note\"]\n",
        "        generated_for_this = 0\n",
        "        attempt = 0\n",
        "        max_attempt = k_per_sample * 2\n",
        "\n",
        "        while generated_for_this < k_per_sample and attempt < max_attempt:\n",
        "            attempt += 1\n",
        "\n",
        "            bt_candidates = back_translate(text, k_per_sample)\n",
        "            for bt_text in bt_candidates:\n",
        "                sim = cosine_similarity(text, bt_text)\n",
        "\n",
        "                if 0.80 <= sim <= 0.92:\n",
        "                    bt_results.append({\n",
        "                        \"original\": text,\n",
        "                        \"back_translated\": bt_text,\n",
        "                        \"label\": label\n",
        "                    })\n",
        "                    generated_for_this += 1\n",
        "                    total_valid += 1\n",
        "\n",
        "                if generated_for_this >= k_per_sample:\n",
        "                    break\n",
        "\n",
        "            bar.set_postfix({\n",
        "                \"sample\": f\"{generated_for_this}/{k_per_sample}\",\n",
        "                \"total\": total_valid,\n",
        "                \"attempt\": f\"{attempt}/{max_attempt}\"\n",
        "            })\n",
        "        bar.update(1)\n",
        "    bar.close()\n",
        "\n",
        "bt_df = pd.DataFrame(bt_results)\n",
        "bt_df.to_excel(\"bt_data.xlsx\", index=False)\n",
        "print(f\"✅ Back-translation hoàn tất: {len(bt_df)} câu sinh thêm.\")\n"
      ]
    },
    {
      "cell_type": "markdown",
      "id": "4f5ebb30",
      "metadata": {
        "id": "4f5ebb30"
      },
      "source": [
        "## 2.1 Paraphrasing"
      ]
    },
    {
      "cell_type": "code",
      "execution_count": null,
      "id": "3cfe780f",
      "metadata": {
        "id": "3cfe780f",
        "outputId": "5952ba63-8f87-4a3f-b297-e37043814b3c"
      },
      "outputs": [
        {
          "name": "stderr",
          "output_type": "stream",
          "text": [
            "The tokenizer class you load from this checkpoint is not the same type as the class this function is called from. It may result in unexpected tokenization. \n",
            "The tokenizer class you load from this checkpoint is 'T5Tokenizer'. \n",
            "The class this function is called from is 'MT5Tokenizer'.\n"
          ]
        },
        {
          "name": "stdout",
          "output_type": "stream",
          "text": [
            "Input: Thật tự hào khi là sinh viên trường Đại học Công nghệ\n",
            "Output: ['Là một sinh viên tại Đại học Công nghệ, tôi cảm thấy tự hào.']\n",
            "----------------------------------------------------------------------------------------------------\n",
            "Input: Cách kiếm nhiều tiền ?\n",
            "Output: ['Một số cách để kiếm được nhiều tiền là gì?']\n",
            "----------------------------------------------------------------------------------------------------\n",
            "Input: Những nguyên lí cơ bản của vật lý ?\n",
            "Output: ['Các nguyên tắc chính của vật lý là gì?']\n",
            "----------------------------------------------------------------------------------------------------\n",
            "Input: Làm thế nào để học ngôn ngữ Java\n",
            "Output: ['Quá trình học ngôn ngữ Java là gì?']\n",
            "----------------------------------------------------------------------------------------------------\n",
            "Input: Ngoài ra, nắng nóng còn có thể gây tình trạng mất nước, kiệt sức, đột qụy do sốc nhiệt đối với cơ thể người khi tiếp xúc lâu với nền nhiệt độ cao.\n",
            "Output: ['Hơn nữa, nắng nóng có thể dẫn đến mất nước, kiệt sức và đột quỵ do sốc nhiệt đối với cơ thể người khi tiếp xúc lâu với điều kiện nhiệt độ cao.']\n",
            "----------------------------------------------------------------------------------------------------\n",
            "Input: Cho tôi hỏi tôi là người đăng ký tạm trú cho Peter có đúng không?\n",
            "Output: ['Có đúng không khi hỏi tôi về việc trở thành người đăng ký tạm trú của Peter?']\n",
            "----------------------------------------------------------------------------------------------------\n"
          ]
        }
      ],
      "source": [
        "\n",
        "CKPT = 'chieunq/vietnamese-sentence-paraphase'\n",
        "phr_tokenizer = MT5Tokenizer.from_pretrained(CKPT)\n",
        "phr_model = MT5ForConditionalGeneration.from_pretrained(CKPT)\n",
        "\n",
        "def paraphrase(text, num_return_sequences=1):\n",
        "    inputs = phr_tokenizer(text, truncation=True, padding=True, max_length=256, return_tensors='pt')\n",
        "    input_ids = inputs.input_ids\n",
        "    attention_mask = inputs.attention_mask\n",
        "    outputs = phr_model.generate(\n",
        "        input_ids,\n",
        "        attention_mask=attention_mask,\n",
        "        max_length=256,\n",
        "        do_sample=True,\n",
        "        top_k=50,\n",
        "        top_p=0.92,\n",
        "        temperature=0.8,\n",
        "        num_return_sequences=num_return_sequences,\n",
        "        repetition_penalty=1.2,\n",
        "        no_repeat_ngram_size=2,\n",
        "    )\n",
        "    return [phr_tokenizer.decode(o, skip_special_tokens=True) for o in outputs]\n",
        "\n",
        "texts = [\n",
        "        \"Thật tự hào khi là sinh viên trường Đại học Công nghệ\",\n",
        "        \"Cách kiếm nhiều tiền ?\",\n",
        "        \"Những nguyên lí cơ bản của vật lý ?\",\n",
        "        \"Làm thế nào để học ngôn ngữ Java\",\n",
        "        \"Ngoài ra, nắng nóng còn có thể gây tình trạng mất nước, kiệt sức, đột qụy do sốc nhiệt đối với cơ thể người khi tiếp xúc lâu với nền nhiệt độ cao.\",\n",
        "        \"Cho tôi hỏi tôi là người đăng ký tạm trú cho Peter có đúng không?\"\n",
        "        ]\n",
        "\n",
        "for text in texts:\n",
        "    print(f'Input: {text}')\n",
        "    print(f'Output: {paraphrase(text)}')\n",
        "    print('-'*100)\n"
      ]
    },
    {
      "cell_type": "code",
      "execution_count": null,
      "id": "f0adf425",
      "metadata": {
        "id": "f0adf425",
        "outputId": "ac9df53f-7f85-461c-e1b4-f2e443b00834"
      },
      "outputs": [
        {
          "name": "stdout",
          "output_type": "stream",
          "text": [
            "Câu gốc: Thủ tục gia hạn tạm trú cấp xã mới nhất thực hiện như thế nào? Hồ sơ gia hạn gồm những gì?\n",
            "Paraphrase 1: ['Các bước liên quan đến việc gia hạn tạm trú cấp xã mới nhất là gì? Bạn có thể cung cấp một số thông tin chi tiết về các thủ tục?']\n",
            "Paraphrase 2: ['Quy trình gia hạn tạm trú cấp xã mới nhất là gì? Bạn có thể cung cấp một số thông tin chi tiết về các bước liên quan?']\n"
          ]
        }
      ],
      "source": [
        "# Thử nghiệm paraphrase sinh trên câu gốc rồi sinh tiếp từ các câu paraphrase\n",
        "text = \"Thủ tục gia hạn tạm trú cấp xã mới nhất thực hiện như thế nào? Hồ sơ gia hạn gồm những gì?\"\n",
        "paraphrased = paraphrase(text)\n",
        "print(\"Câu gốc:\", text)\n",
        "print(\"Paraphrase 1:\", paraphrased)\n",
        "paraphrased2 = paraphrase(paraphrased)\n",
        "print(\"Paraphrase 2:\", paraphrased2)"
      ]
    },
    {
      "cell_type": "code",
      "execution_count": null,
      "id": "52cfa4e4",
      "metadata": {
        "id": "52cfa4e4",
        "outputId": "013cc5fe-5149-4e90-afe4-06f5f730c030"
      },
      "outputs": [
        {
          "name": "stdout",
          "output_type": "stream",
          "text": [
            "\n",
            "🔹 Generating for label NN: 281 originals × 1 each\n"
          ]
        },
        {
          "name": "stderr",
          "output_type": "stream",
          "text": [
            "NN:   2%|▏         | 6/281 [00:51<39:20,  8.58s/it, done=3, label=NN]\n",
            "NN: 100%|██████████| 281/281 [13:07<00:00,  2.80s/it, done=172, label=NN]\n"
          ]
        },
        {
          "name": "stdout",
          "output_type": "stream",
          "text": [
            "\n",
            "🔹 Generating for label VN_bé_hơn_14: 32 originals × 14 each\n"
          ]
        },
        {
          "name": "stderr",
          "output_type": "stream",
          "text": [
            "VN_bé_hơn_14: 100%|██████████| 32/32 [07:42<00:00, 14.47s/it, done=254, label=VN_bé_hơn_14]\n"
          ]
        },
        {
          "name": "stdout",
          "output_type": "stream",
          "text": [
            "\n",
            "🔹 Generating for label Không có thông tin: 11 originals × 25 each\n"
          ]
        },
        {
          "name": "stderr",
          "output_type": "stream",
          "text": [
            "Không có thông tin: 100%|██████████| 11/11 [02:27<00:00, 13.39s/it, done=168, label=Không có thông tin]"
          ]
        },
        {
          "name": "stdout",
          "output_type": "stream",
          "text": [
            "✅ Back-translation xong: 594 câu\n"
          ]
        },
        {
          "name": "stderr",
          "output_type": "stream",
          "text": [
            "\n"
          ]
        }
      ],
      "source": [
        "\n",
        "phr_results = []\n",
        "\n",
        "for label in labels:\n",
        "        if target_phr[label] == 0:\n",
        "            continue\n",
        "        k_per_sample = target_phr[label]\n",
        "        label_df = df[df[\"Subject\"] == label]\n",
        "        n_rows = len(label_df)\n",
        "\n",
        "        print(f\"\\n🔹 Generating for label {label}: {n_rows} originals × {k_per_sample} each\")\n",
        "\n",
        "        bar = tqdm(total=n_rows, desc=f\"{label}\", position=0)\n",
        "        total_valid = 0\n",
        "\n",
        "        for _, row in label_df.iterrows():\n",
        "            text = row[\"question_note\"]\n",
        "\n",
        "            try:\n",
        "                para_list = paraphrase(text, k_per_sample * 2)\n",
        "            except Exception as e:\n",
        "                print(f\"Lỗi khi paraphrase câu: {text[:50]}... | {e}\")\n",
        "                para_list = []\n",
        "\n",
        "            for para in para_list:\n",
        "                sim = cosine_similarity(text, para)\n",
        "                if 0.85 <= sim <= 0.92:\n",
        "                    phr_results.append({\n",
        "                        \"original\": text,\n",
        "                        \"paraphrased\": para,\n",
        "                        \"label\": label\n",
        "                    })\n",
        "                    total_valid += 1\n",
        "\n",
        "            bar.set_postfix({\n",
        "                \"done\": total_valid,\n",
        "                \"label\": label\n",
        "            })\n",
        "\n",
        "            bar.update(1)\n",
        "\n",
        "        bar.close()\n",
        "\n",
        "phr_df = pd.DataFrame(phr_results)\n",
        "phr_df.to_excel(\"phr_data.xlsx\", index=False)\n",
        "print(f\"✅ Back-translation xong: {len(phr_df)} câu\")\n"
      ]
    },
    {
      "cell_type": "markdown",
      "id": "25a651ab",
      "metadata": {
        "id": "25a651ab"
      },
      "source": [
        "## 2.2 Gộp dữ liệu"
      ]
    },
    {
      "cell_type": "code",
      "execution_count": null,
      "id": "59566da1",
      "metadata": {
        "id": "59566da1",
        "outputId": "cda5eeab-ddcb-443f-b9b4-ba47f484e11d"
      },
      "outputs": [
        {
          "name": "stdout",
          "output_type": "stream",
          "text": [
            "✅ Đã gộp và lọc trùng hoàn tất.\n",
            "Số lượng dữ liệu sau gộp: 1930\n",
            "Thống kê theo nhãn:\n",
            "Subject\n",
            "VN_lớn_hơn_14         816\n",
            "NN                    446\n",
            "VN_bé_hơn_14          419\n",
            "Không có thông tin    249\n",
            "Name: count, dtype: int64\n"
          ]
        }
      ],
      "source": [
        "original_df = pd.read_excel(\"cleaned_data.xlsx\")\n",
        "bt_data = pd.read_excel(\"bt_data.xlsx\")\n",
        "phr_data = pd.read_excel(\"phr_data.xlsx\")\n",
        "\n",
        "bt_data = bt_data.rename(columns={\n",
        "    \"back_translated\": \"question_note_aug\",\n",
        "    \"label\": \"Subject\"\n",
        "})\n",
        "\n",
        "phr_data = phr_data.rename(columns={\n",
        "    \"original\": \"question_note\",\n",
        "    \"paraphrased\": \"question_note_aug\",\n",
        "    \"label\": \"Subject\"\n",
        "})\n",
        "\n",
        "aug_df = pd.concat([\n",
        "    bt_data[[\"question_note_aug\", \"Subject\"]],\n",
        "    phr_data[[\"question_note_aug\", \"Subject\"]]\n",
        "], ignore_index=True)\n",
        "\n",
        "aug_df = aug_df.rename(columns={\"question_note_aug\": \"question_note\"})\n",
        "\n",
        "final_df = pd.concat([\n",
        "    original_df[[\"question_note\", \"Subject\"]],\n",
        "    aug_df\n",
        "], ignore_index=True)\n",
        "\n",
        "final_df.drop_duplicates(subset=[\"question_note\"], inplace=True)\n",
        "\n",
        "final_df.reset_index(drop=True, inplace=True)\n",
        "\n",
        "final_df.to_excel(\"augmented_data.xlsx\", index=False)\n",
        "\n",
        "print(\"✅ Đã gộp và lọc trùng hoàn tất.\")\n",
        "print(\"Số lượng dữ liệu sau gộp:\", len(final_df))\n",
        "print(\"Thống kê theo nhãn:\")\n",
        "print(final_df[\"Subject\"].value_counts())\n"
      ]
    },
    {
      "cell_type": "markdown",
      "id": "108fc523",
      "metadata": {
        "id": "108fc523"
      },
      "source": [
        "# 3. Dataset + EarlyStopping"
      ]
    },
    {
      "cell_type": "code",
      "execution_count": 3,
      "id": "a715ee06",
      "metadata": {
        "id": "a715ee06"
      },
      "outputs": [],
      "source": [
        "\n",
        "class LawDataset(Dataset):\n",
        "    def __init__(self, df, tokenizer, max_len=256):\n",
        "        self.texts = df[\"question_note\"].tolist()\n",
        "        self.labels = df[\"Subject\"].tolist()\n",
        "        self.tokenizer = tokenizer\n",
        "        self.max_len = max_len\n",
        "\n",
        "    def __len__(self):\n",
        "        return len(self.texts)\n",
        "\n",
        "    def __getitem__(self, idx):\n",
        "        encoding = self.tokenizer(\n",
        "            self.texts[idx],\n",
        "            truncation=True,\n",
        "            padding=\"max_length\",\n",
        "            max_length=self.max_len,\n",
        "            return_tensors=\"pt\"\n",
        "        )\n",
        "        item = {key: val.squeeze(0) for key, val in encoding.items()}\n",
        "        item[\"labels\"] = torch.tensor(self.labels[idx], dtype=torch.long)\n",
        "        return item\n",
        "\n",
        "class EarlyStopping:\n",
        "    def __init__(self, patience=3, delta=0.0, path=\"checkpoint.pt\"):\n",
        "        \"\"\"\n",
        "        Args:\n",
        "            patience (int): số epoch cho phép không cải thiện trước khi dừng\n",
        "            delta (float): mức cải thiện tối thiểu để được coi là tốt hơn\n",
        "            path (str): nơi lưu mô hình tốt nhất\n",
        "        \"\"\"\n",
        "        self.patience = patience\n",
        "        self.delta = delta\n",
        "        self.counter = 0\n",
        "        self.best_score = None\n",
        "        self.early_stop = False\n",
        "        self.val_loss_min = np.inf\n",
        "        self.path = path\n",
        "\n",
        "    def __call__(self, val_loss, model):\n",
        "        score = -val_loss  # nhỏ hơn thì tốt hơn\n",
        "\n",
        "        if self.best_score is None:\n",
        "            self.best_score = score\n",
        "            self.save_checkpoint(val_loss, model)\n",
        "\n",
        "        elif score < self.best_score + self.delta:\n",
        "            self.counter += 1\n",
        "            print(f\"⏳ EarlyStopping counter: {self.counter} / {self.patience}\")\n",
        "            if self.counter >= self.patience:\n",
        "                self.early_stop = True\n",
        "        else:\n",
        "            self.best_score = score\n",
        "            self.save_checkpoint(val_loss, model)\n",
        "            self.counter = 0\n",
        "\n",
        "    def save_checkpoint(self, val_loss, model):\n",
        "        \"\"\"Lưu mô hình tốt nhất\"\"\"\n",
        "        torch.save(model.state_dict(), self.path)\n",
        "        self.val_loss_min = val_loss\n",
        "        print(f\"✅ Val loss giảm ({self.val_loss_min:.4f} → {val_loss:.4f}). Lưu model ...\")\n"
      ]
    },
    {
      "cell_type": "markdown",
      "id": "ccdd718e",
      "metadata": {
        "id": "ccdd718e"
      },
      "source": [
        "# 2. Mô hình PhoBERT fine-tune"
      ]
    },
    {
      "cell_type": "markdown",
      "id": "7190f683",
      "metadata": {
        "id": "7190f683"
      },
      "source": [
        "### Hàm train + eval chung"
      ]
    },
    {
      "cell_type": "code",
      "execution_count": 4,
      "id": "0f25d718",
      "metadata": {
        "id": "0f25d718"
      },
      "outputs": [],
      "source": [
        "def train_epoch(model, dataloader, criterion, optimizer, lr_scheduler):\n",
        "    model.train()\n",
        "    total_loss, total_preds, total_labels = 0, [], []\n",
        "    for batch in tqdm(dataloader, desc=\"Training\"):\n",
        "        batch = {k: v.to(device) for k, v in batch.items()}\n",
        "        outputs = model(**batch)\n",
        "        loss = criterion(outputs.logits, batch[\"labels\"])\n",
        "        logits = outputs.logits\n",
        "\n",
        "        optimizer.zero_grad()\n",
        "        loss.backward()\n",
        "        optimizer.step()\n",
        "        lr_scheduler.step()\n",
        "\n",
        "        total_loss += loss.item()\n",
        "        preds = torch.argmax(logits, dim=-1).cpu().numpy()\n",
        "        labels = batch[\"labels\"].cpu().numpy()\n",
        "        total_preds.extend(preds)\n",
        "        total_labels.extend(labels)\n",
        "\n",
        "    acc = accuracy_score(total_labels, total_preds)\n",
        "    return total_loss / len(dataloader), acc\n",
        "\n",
        "\n",
        "def eval_epoch(model, dataloader, criterion):\n",
        "    model.eval()\n",
        "    total_loss, total_preds, total_labels = 0, [], []\n",
        "    with torch.no_grad():\n",
        "        for batch in tqdm(dataloader, desc=\"Evaluating\"):\n",
        "            batch = {k: v.to(device) for k, v in batch.items()}\n",
        "            outputs = model(**batch)\n",
        "            loss = criterion(outputs.logits, batch[\"labels\"])\n",
        "            logits = outputs.logits\n",
        "\n",
        "            total_loss += loss.item()\n",
        "            preds = torch.argmax(logits, dim=-1).cpu().numpy()\n",
        "            labels = batch[\"labels\"].cpu().numpy()\n",
        "            total_preds.extend(preds)\n",
        "            total_labels.extend(labels)\n",
        "\n",
        "    acc = accuracy_score(total_labels, total_preds)\n",
        "    return total_loss / len(dataloader), acc, total_preds, total_labels\n"
      ]
    },
    {
      "cell_type": "markdown",
      "id": "092edb5e",
      "metadata": {
        "id": "092edb5e"
      },
      "source": [
        "## 2.1 Class-weight + FocalLoss trên bộ dữ liệu gốc"
      ]
    },
    {
      "cell_type": "markdown",
      "id": "988358f2",
      "metadata": {
        "id": "988358f2"
      },
      "source": [
        "### Chuẩn bị dữ liệu"
      ]
    },
    {
      "cell_type": "code",
      "execution_count": 5,
      "id": "12b51611",
      "metadata": {
        "id": "12b51611",
        "outputId": "2e63eead-ea04-4733-a715-f4028be65f7c"
      },
      "outputs": [
        {
          "name": "stdout",
          "output_type": "stream",
          "text": [
            "Class 0 -> Không có thông tin\n",
            "Class 1 -> NN\n",
            "Class 2 -> VN_bé_hơn_14\n",
            "Class 3 -> VN_lớn_hơn_14\n"
          ]
        }
      ],
      "source": [
        "# Chia dữ liệu train/val/test\n",
        "\n",
        "df = pd.read_excel(\"cleaned_data.xlsx\")\n",
        "\n",
        "general_df, test_df = train_test_split(df, test_size=0.1, random_state=42, stratify=df[\"Subject\"])    # Cố định random_state để tái lập kết quả, thêm stratify để cân bằng tỉ lệ các lớp\n",
        "\n",
        "le = LabelEncoder()\n",
        "general_df[\"Subject\"] = le.fit_transform(general_df[\"Subject\"])\n",
        "test_df[\"Subject\"]  = le.transform(test_df[\"Subject\"])\n",
        "\n",
        "# In ra mapping giữa nhãn gốc và số\n",
        "for idx, class_name in enumerate(le.classes_):\n",
        "    print(f\"Class {idx} -> {class_name}\")"
      ]
    },
    {
      "cell_type": "markdown",
      "id": "48988128",
      "metadata": {
        "id": "48988128"
      },
      "source": [
        "### Khởi tạo ban đầu"
      ]
    },
    {
      "cell_type": "code",
      "execution_count": 7,
      "id": "55d5a8e7",
      "metadata": {
        "id": "55d5a8e7"
      },
      "outputs": [],
      "source": [
        "class FocalLoss(nn.Module):\n",
        "    def __init__(self, alpha=None, gamma=2):\n",
        "        super(FocalLoss, self).__init__()\n",
        "        self.alpha = alpha\n",
        "        self.gamma = gamma\n",
        "        self.ce = nn.CrossEntropyLoss(weight=alpha)\n",
        "\n",
        "    def forward(self, logits, targets):\n",
        "        logp = self.ce(logits, targets)\n",
        "        p = torch.exp(-logp)\n",
        "        loss = (1 - p) ** self.gamma * logp\n",
        "        return loss.mean()\n"
      ]
    },
    {
      "cell_type": "markdown",
      "id": "8593bc2c",
      "metadata": {
        "id": "8593bc2c"
      },
      "source": [
        "### Vòng lặp huấn luyện chính"
      ]
    },
    {
      "cell_type": "code",
      "execution_count": 9,
      "id": "441a6f4d",
      "metadata": {
        "id": "441a6f4d",
        "outputId": "7182f823-ec70-4e18-8932-b16cbf84537b"
      },
      "outputs": [
        {
          "name": "stdout",
          "output_type": "stream",
          "text": [
            "\n",
            "==============================\n",
            "🔹 Fold 1/10\n",
            "==============================\n"
          ]
        },
        {
          "name": "stderr",
          "output_type": "stream",
          "text": [
            "Some weights of RobertaForSequenceClassification were not initialized from the model checkpoint at vinai/phobert-base and are newly initialized: ['classifier.dense.bias', 'classifier.dense.weight', 'classifier.out_proj.bias', 'classifier.out_proj.weight']\n",
            "You should probably TRAIN this model on a down-stream task to be able to use it for predictions and inference.\n",
            "Training: 100%|██████████| 59/59 [02:19<00:00,  2.37s/it]\n",
            "Evaluating: 100%|██████████| 4/4 [00:03<00:00,  1.12it/s]\n"
          ]
        },
        {
          "name": "stdout",
          "output_type": "stream",
          "text": [
            "Epoch 1/5\n",
            "Train loss: 0.6545 | Train acc: 0.6315\n",
            "Val loss:   0.4705 | Val acc:   0.6571\n",
            "✅ Val loss giảm (0.4705 → 0.4705). Lưu model ...\n"
          ]
        },
        {
          "name": "stderr",
          "output_type": "stream",
          "text": [
            "Training: 100%|██████████| 59/59 [02:32<00:00,  2.59s/it]\n",
            "Evaluating: 100%|██████████| 4/4 [00:04<00:00,  1.14s/it]\n"
          ]
        },
        {
          "name": "stdout",
          "output_type": "stream",
          "text": [
            "Epoch 2/5\n",
            "Train loss: 0.3328 | Train acc: 0.8679\n",
            "Val loss:   0.2790 | Val acc:   0.8857\n",
            "✅ Val loss giảm (0.2790 → 0.2790). Lưu model ...\n"
          ]
        },
        {
          "name": "stderr",
          "output_type": "stream",
          "text": [
            "Training: 100%|██████████| 59/59 [02:40<00:00,  2.73s/it]\n",
            "Evaluating: 100%|██████████| 4/4 [00:04<00:00,  1.19s/it]\n"
          ]
        },
        {
          "name": "stdout",
          "output_type": "stream",
          "text": [
            "Epoch 3/5\n",
            "Train loss: 0.1328 | Train acc: 0.9148\n",
            "Val loss:   0.2406 | Val acc:   0.8952\n",
            "✅ Val loss giảm (0.2406 → 0.2406). Lưu model ...\n"
          ]
        },
        {
          "name": "stderr",
          "output_type": "stream",
          "text": [
            "Training: 100%|██████████| 59/59 [02:48<00:00,  2.86s/it]\n",
            "Evaluating: 100%|██████████| 4/4 [00:04<00:00,  1.08s/it]\n"
          ]
        },
        {
          "name": "stdout",
          "output_type": "stream",
          "text": [
            "Epoch 4/5\n",
            "Train loss: 0.0788 | Train acc: 0.9318\n",
            "Val loss:   0.2357 | Val acc:   0.9048\n",
            "⏳ EarlyStopping counter: 1 / 2\n"
          ]
        },
        {
          "name": "stderr",
          "output_type": "stream",
          "text": [
            "Training: 100%|██████████| 59/59 [02:40<00:00,  2.72s/it]\n",
            "Evaluating: 100%|██████████| 4/4 [00:04<00:00,  1.11s/it]\n"
          ]
        },
        {
          "name": "stdout",
          "output_type": "stream",
          "text": [
            "Epoch 5/5\n",
            "Train loss: 0.0566 | Train acc: 0.9436\n",
            "Val loss:   0.2396 | Val acc:   0.9143\n",
            "⏳ EarlyStopping counter: 2 / 2\n",
            "🛑 Early stopping\n"
          ]
        },
        {
          "name": "stderr",
          "output_type": "stream",
          "text": [
            "Evaluating: 100%|██████████| 4/4 [00:04<00:00,  1.10s/it]\n"
          ]
        },
        {
          "name": "stdout",
          "output_type": "stream",
          "text": [
            "\n",
            "==============================\n",
            "🔹 Fold 2/10\n",
            "==============================\n"
          ]
        },
        {
          "name": "stderr",
          "output_type": "stream",
          "text": [
            "Some weights of RobertaForSequenceClassification were not initialized from the model checkpoint at vinai/phobert-base and are newly initialized: ['classifier.dense.bias', 'classifier.dense.weight', 'classifier.out_proj.bias', 'classifier.out_proj.weight']\n",
            "You should probably TRAIN this model on a down-stream task to be able to use it for predictions and inference.\n",
            "Training: 100%|██████████| 59/59 [03:09<00:00,  3.21s/it]\n",
            "Evaluating: 100%|██████████| 4/4 [00:08<00:00,  2.21s/it]\n"
          ]
        },
        {
          "name": "stdout",
          "output_type": "stream",
          "text": [
            "Epoch 1/5\n",
            "Train loss: 0.6705 | Train acc: 0.5793\n",
            "Val loss:   0.5344 | Val acc:   0.8667\n",
            "✅ Val loss giảm (0.5344 → 0.5344). Lưu model ...\n"
          ]
        },
        {
          "name": "stderr",
          "output_type": "stream",
          "text": [
            "Training: 100%|██████████| 59/59 [03:16<00:00,  3.33s/it]\n",
            "Evaluating: 100%|██████████| 4/4 [00:09<00:00,  2.29s/it]\n"
          ]
        },
        {
          "name": "stdout",
          "output_type": "stream",
          "text": [
            "Epoch 2/5\n",
            "Train loss: 0.3696 | Train acc: 0.9020\n",
            "Val loss:   0.1701 | Val acc:   0.9143\n",
            "✅ Val loss giảm (0.1701 → 0.1701). Lưu model ...\n"
          ]
        },
        {
          "name": "stderr",
          "output_type": "stream",
          "text": [
            "Training: 100%|██████████| 59/59 [03:23<00:00,  3.45s/it]\n",
            "Evaluating: 100%|██████████| 4/4 [00:09<00:00,  2.33s/it]\n"
          ]
        },
        {
          "name": "stdout",
          "output_type": "stream",
          "text": [
            "Epoch 3/5\n",
            "Train loss: 0.1659 | Train acc: 0.9297\n",
            "Val loss:   0.1028 | Val acc:   0.9429\n",
            "✅ Val loss giảm (0.1028 → 0.1028). Lưu model ...\n"
          ]
        },
        {
          "name": "stderr",
          "output_type": "stream",
          "text": [
            "Training: 100%|██████████| 59/59 [03:22<00:00,  3.43s/it]\n",
            "Evaluating: 100%|██████████| 4/4 [00:09<00:00,  2.41s/it]\n"
          ]
        },
        {
          "name": "stdout",
          "output_type": "stream",
          "text": [
            "Epoch 4/5\n",
            "Train loss: 0.1048 | Train acc: 0.9510\n",
            "Val loss:   0.0794 | Val acc:   0.9429\n",
            "✅ Val loss giảm (0.0794 → 0.0794). Lưu model ...\n"
          ]
        },
        {
          "name": "stderr",
          "output_type": "stream",
          "text": [
            "Training: 100%|██████████| 59/59 [03:23<00:00,  3.44s/it]\n",
            "Evaluating: 100%|██████████| 4/4 [00:11<00:00,  2.78s/it]\n"
          ]
        },
        {
          "name": "stdout",
          "output_type": "stream",
          "text": [
            "Epoch 5/5\n",
            "Train loss: 0.0819 | Train acc: 0.9372\n",
            "Val loss:   0.0722 | Val acc:   0.9524\n",
            "⏳ EarlyStopping counter: 1 / 2\n"
          ]
        },
        {
          "name": "stderr",
          "output_type": "stream",
          "text": [
            "Evaluating: 100%|██████████| 4/4 [00:11<00:00,  2.77s/it]\n"
          ]
        },
        {
          "name": "stdout",
          "output_type": "stream",
          "text": [
            "\n",
            "==============================\n",
            "🔹 Fold 3/10\n",
            "==============================\n"
          ]
        },
        {
          "name": "stderr",
          "output_type": "stream",
          "text": [
            "Some weights of RobertaForSequenceClassification were not initialized from the model checkpoint at vinai/phobert-base and are newly initialized: ['classifier.dense.bias', 'classifier.dense.weight', 'classifier.out_proj.bias', 'classifier.out_proj.weight']\n",
            "You should probably TRAIN this model on a down-stream task to be able to use it for predictions and inference.\n",
            "Training: 100%|██████████| 59/59 [02:06<00:00,  2.15s/it]\n",
            "Evaluating: 100%|██████████| 4/4 [00:05<00:00,  1.32s/it]\n"
          ]
        },
        {
          "name": "stdout",
          "output_type": "stream",
          "text": [
            "Epoch 1/5\n",
            "Train loss: 0.6466 | Train acc: 0.6464\n",
            "Val loss:   0.4234 | Val acc:   0.7810\n",
            "✅ Val loss giảm (0.4234 → 0.4234). Lưu model ...\n"
          ]
        },
        {
          "name": "stderr",
          "output_type": "stream",
          "text": [
            "Training: 100%|██████████| 59/59 [02:19<00:00,  2.37s/it]\n",
            "Evaluating: 100%|██████████| 4/4 [00:04<00:00,  1.20s/it]\n"
          ]
        },
        {
          "name": "stdout",
          "output_type": "stream",
          "text": [
            "Epoch 2/5\n",
            "Train loss: 0.3476 | Train acc: 0.8658\n",
            "Val loss:   0.2059 | Val acc:   0.9429\n",
            "✅ Val loss giảm (0.2059 → 0.2059). Lưu model ...\n"
          ]
        },
        {
          "name": "stderr",
          "output_type": "stream",
          "text": [
            "Training: 100%|██████████| 59/59 [02:10<00:00,  2.21s/it]\n",
            "Evaluating: 100%|██████████| 4/4 [00:04<00:00,  1.14s/it]\n"
          ]
        },
        {
          "name": "stdout",
          "output_type": "stream",
          "text": [
            "Epoch 3/5\n",
            "Train loss: 0.1686 | Train acc: 0.9308\n",
            "Val loss:   0.1725 | Val acc:   0.9048\n",
            "✅ Val loss giảm (0.1725 → 0.1725). Lưu model ...\n"
          ]
        },
        {
          "name": "stderr",
          "output_type": "stream",
          "text": [
            "Training: 100%|██████████| 59/59 [02:14<00:00,  2.29s/it]\n",
            "Evaluating: 100%|██████████| 4/4 [00:04<00:00,  1.17s/it]\n"
          ]
        },
        {
          "name": "stdout",
          "output_type": "stream",
          "text": [
            "Epoch 4/5\n",
            "Train loss: 0.0998 | Train acc: 0.9169\n",
            "Val loss:   0.1843 | Val acc:   0.9429\n",
            "⏳ EarlyStopping counter: 1 / 2\n"
          ]
        },
        {
          "name": "stderr",
          "output_type": "stream",
          "text": [
            "Training: 100%|██████████| 59/59 [02:10<00:00,  2.22s/it]\n",
            "Evaluating: 100%|██████████| 4/4 [00:04<00:00,  1.19s/it]\n"
          ]
        },
        {
          "name": "stdout",
          "output_type": "stream",
          "text": [
            "Epoch 5/5\n",
            "Train loss: 0.0829 | Train acc: 0.9361\n",
            "Val loss:   0.1796 | Val acc:   0.9333\n",
            "⏳ EarlyStopping counter: 2 / 2\n",
            "🛑 Early stopping\n"
          ]
        },
        {
          "name": "stderr",
          "output_type": "stream",
          "text": [
            "Evaluating: 100%|██████████| 4/4 [00:04<00:00,  1.22s/it]\n"
          ]
        },
        {
          "name": "stdout",
          "output_type": "stream",
          "text": [
            "\n",
            "==============================\n",
            "🔹 Fold 4/10\n",
            "==============================\n"
          ]
        },
        {
          "name": "stderr",
          "output_type": "stream",
          "text": [
            "Some weights of RobertaForSequenceClassification were not initialized from the model checkpoint at vinai/phobert-base and are newly initialized: ['classifier.dense.bias', 'classifier.dense.weight', 'classifier.out_proj.bias', 'classifier.out_proj.weight']\n",
            "You should probably TRAIN this model on a down-stream task to be able to use it for predictions and inference.\n",
            "Training: 100%|██████████| 59/59 [03:19<00:00,  3.38s/it]\n",
            "Evaluating: 100%|██████████| 4/4 [00:08<00:00,  2.16s/it]\n"
          ]
        },
        {
          "name": "stdout",
          "output_type": "stream",
          "text": [
            "Epoch 1/5\n",
            "Train loss: 0.6966 | Train acc: 0.6539\n",
            "Val loss:   0.5748 | Val acc:   0.8571\n",
            "✅ Val loss giảm (0.5748 → 0.5748). Lưu model ...\n"
          ]
        },
        {
          "name": "stderr",
          "output_type": "stream",
          "text": [
            "Training: 100%|██████████| 59/59 [03:42<00:00,  3.77s/it]\n",
            "Evaluating: 100%|██████████| 4/4 [00:09<00:00,  2.29s/it]\n"
          ]
        },
        {
          "name": "stdout",
          "output_type": "stream",
          "text": [
            "Epoch 2/5\n",
            "Train loss: 0.3572 | Train acc: 0.8669\n",
            "Val loss:   0.2691 | Val acc:   0.8476\n",
            "✅ Val loss giảm (0.2691 → 0.2691). Lưu model ...\n"
          ]
        },
        {
          "name": "stderr",
          "output_type": "stream",
          "text": [
            "Training: 100%|██████████| 59/59 [03:51<00:00,  3.92s/it]\n",
            "Evaluating: 100%|██████████| 4/4 [00:08<00:00,  2.24s/it]\n"
          ]
        },
        {
          "name": "stdout",
          "output_type": "stream",
          "text": [
            "Epoch 3/5\n",
            "Train loss: 0.1613 | Train acc: 0.9201\n",
            "Val loss:   0.1887 | Val acc:   0.8667\n",
            "✅ Val loss giảm (0.1887 → 0.1887). Lưu model ...\n"
          ]
        },
        {
          "name": "stderr",
          "output_type": "stream",
          "text": [
            "Training: 100%|██████████| 59/59 [03:52<00:00,  3.93s/it]\n",
            "Evaluating: 100%|██████████| 4/4 [00:10<00:00,  2.52s/it]\n"
          ]
        },
        {
          "name": "stdout",
          "output_type": "stream",
          "text": [
            "Epoch 4/5\n",
            "Train loss: 0.0918 | Train acc: 0.9499\n",
            "Val loss:   0.1773 | Val acc:   0.8762\n",
            "✅ Val loss giảm (0.1773 → 0.1773). Lưu model ...\n"
          ]
        },
        {
          "name": "stderr",
          "output_type": "stream",
          "text": [
            "Training: 100%|██████████| 59/59 [04:12<00:00,  4.27s/it]\n",
            "Evaluating: 100%|██████████| 4/4 [00:10<00:00,  2.57s/it]\n"
          ]
        },
        {
          "name": "stdout",
          "output_type": "stream",
          "text": [
            "Epoch 5/5\n",
            "Train loss: 0.0896 | Train acc: 0.9308\n",
            "Val loss:   0.1821 | Val acc:   0.8762\n",
            "⏳ EarlyStopping counter: 1 / 2\n"
          ]
        },
        {
          "name": "stderr",
          "output_type": "stream",
          "text": [
            "Evaluating: 100%|██████████| 4/4 [00:09<00:00,  2.47s/it]\n"
          ]
        },
        {
          "name": "stdout",
          "output_type": "stream",
          "text": [
            "\n",
            "==============================\n",
            "🔹 Fold 5/10\n",
            "==============================\n"
          ]
        },
        {
          "name": "stderr",
          "output_type": "stream",
          "text": [
            "Some weights of RobertaForSequenceClassification were not initialized from the model checkpoint at vinai/phobert-base and are newly initialized: ['classifier.dense.bias', 'classifier.dense.weight', 'classifier.out_proj.bias', 'classifier.out_proj.weight']\n",
            "You should probably TRAIN this model on a down-stream task to be able to use it for predictions and inference.\n",
            "Training: 100%|██████████| 59/59 [03:09<00:00,  3.22s/it]\n",
            "Evaluating: 100%|██████████| 4/4 [00:06<00:00,  1.50s/it]\n"
          ]
        },
        {
          "name": "stdout",
          "output_type": "stream",
          "text": [
            "Epoch 1/5\n",
            "Train loss: 0.6648 | Train acc: 0.5181\n",
            "Val loss:   0.5586 | Val acc:   0.4615\n",
            "✅ Val loss giảm (0.5586 → 0.5586). Lưu model ...\n"
          ]
        },
        {
          "name": "stderr",
          "output_type": "stream",
          "text": [
            "Training: 100%|██████████| 59/59 [02:42<00:00,  2.76s/it]\n",
            "Evaluating: 100%|██████████| 4/4 [00:06<00:00,  1.51s/it]\n"
          ]
        },
        {
          "name": "stdout",
          "output_type": "stream",
          "text": [
            "Epoch 2/5\n",
            "Train loss: 0.5811 | Train acc: 0.6383\n",
            "Val loss:   0.4318 | Val acc:   0.7115\n",
            "✅ Val loss giảm (0.4318 → 0.4318). Lưu model ...\n"
          ]
        },
        {
          "name": "stderr",
          "output_type": "stream",
          "text": [
            "Training: 100%|██████████| 59/59 [02:41<00:00,  2.74s/it]\n",
            "Evaluating: 100%|██████████| 4/4 [00:06<00:00,  1.50s/it]\n"
          ]
        },
        {
          "name": "stdout",
          "output_type": "stream",
          "text": [
            "Epoch 3/5\n",
            "Train loss: 0.5103 | Train acc: 0.7723\n",
            "Val loss:   0.4765 | Val acc:   0.7596\n",
            "⏳ EarlyStopping counter: 1 / 2\n"
          ]
        },
        {
          "name": "stderr",
          "output_type": "stream",
          "text": [
            "Training: 100%|██████████| 59/59 [02:44<00:00,  2.79s/it]\n",
            "Evaluating: 100%|██████████| 4/4 [00:06<00:00,  1.54s/it]\n"
          ]
        },
        {
          "name": "stdout",
          "output_type": "stream",
          "text": [
            "Epoch 4/5\n",
            "Train loss: 0.4517 | Train acc: 0.7787\n",
            "Val loss:   0.3950 | Val acc:   0.8077\n",
            "✅ Val loss giảm (0.3950 → 0.3950). Lưu model ...\n"
          ]
        },
        {
          "name": "stderr",
          "output_type": "stream",
          "text": [
            "Training: 100%|██████████| 59/59 [02:48<00:00,  2.85s/it]\n",
            "Evaluating: 100%|██████████| 4/4 [00:06<00:00,  1.54s/it]\n"
          ]
        },
        {
          "name": "stdout",
          "output_type": "stream",
          "text": [
            "Epoch 5/5\n",
            "Train loss: 0.3590 | Train acc: 0.8287\n",
            "Val loss:   0.3843 | Val acc:   0.8269\n",
            "✅ Val loss giảm (0.3843 → 0.3843). Lưu model ...\n"
          ]
        },
        {
          "name": "stderr",
          "output_type": "stream",
          "text": [
            "Evaluating: 100%|██████████| 4/4 [00:06<00:00,  1.53s/it]\n"
          ]
        },
        {
          "name": "stdout",
          "output_type": "stream",
          "text": [
            "\n",
            "==============================\n",
            "🔹 Fold 6/10\n",
            "==============================\n"
          ]
        },
        {
          "name": "stderr",
          "output_type": "stream",
          "text": [
            "Some weights of RobertaForSequenceClassification were not initialized from the model checkpoint at vinai/phobert-base and are newly initialized: ['classifier.dense.bias', 'classifier.dense.weight', 'classifier.out_proj.bias', 'classifier.out_proj.weight']\n",
            "You should probably TRAIN this model on a down-stream task to be able to use it for predictions and inference.\n",
            "Training: 100%|██████████| 59/59 [03:50<00:00,  3.90s/it]\n",
            "Evaluating: 100%|██████████| 4/4 [00:11<00:00,  2.99s/it]\n"
          ]
        },
        {
          "name": "stdout",
          "output_type": "stream",
          "text": [
            "Epoch 1/5\n",
            "Train loss: 0.6627 | Train acc: 0.6330\n",
            "Val loss:   0.5218 | Val acc:   0.7212\n",
            "✅ Val loss giảm (0.5218 → 0.5218). Lưu model ...\n"
          ]
        },
        {
          "name": "stderr",
          "output_type": "stream",
          "text": [
            "Training: 100%|██████████| 59/59 [04:00<00:00,  4.08s/it]\n",
            "Evaluating: 100%|██████████| 4/4 [00:11<00:00,  2.99s/it]\n"
          ]
        },
        {
          "name": "stdout",
          "output_type": "stream",
          "text": [
            "Epoch 2/5\n",
            "Train loss: 0.3623 | Train acc: 0.8404\n",
            "Val loss:   0.2003 | Val acc:   0.7788\n",
            "✅ Val loss giảm (0.2003 → 0.2003). Lưu model ...\n"
          ]
        },
        {
          "name": "stderr",
          "output_type": "stream",
          "text": [
            "Training: 100%|██████████| 59/59 [03:57<00:00,  4.02s/it]\n",
            "Evaluating: 100%|██████████| 4/4 [00:11<00:00,  2.97s/it]\n"
          ]
        },
        {
          "name": "stdout",
          "output_type": "stream",
          "text": [
            "Epoch 3/5\n",
            "Train loss: 0.1645 | Train acc: 0.9085\n",
            "Val loss:   0.1170 | Val acc:   0.9231\n",
            "✅ Val loss giảm (0.1170 → 0.1170). Lưu model ...\n"
          ]
        },
        {
          "name": "stderr",
          "output_type": "stream",
          "text": [
            "Training: 100%|██████████| 59/59 [04:20<00:00,  4.41s/it]\n",
            "Evaluating: 100%|██████████| 4/4 [00:11<00:00,  2.94s/it]\n"
          ]
        },
        {
          "name": "stdout",
          "output_type": "stream",
          "text": [
            "Epoch 4/5\n",
            "Train loss: 0.0922 | Train acc: 0.9298\n",
            "Val loss:   0.0710 | Val acc:   0.9231\n",
            "✅ Val loss giảm (0.0710 → 0.0710). Lưu model ...\n"
          ]
        },
        {
          "name": "stderr",
          "output_type": "stream",
          "text": [
            "Training: 100%|██████████| 59/59 [04:03<00:00,  4.12s/it]\n",
            "Evaluating: 100%|██████████| 4/4 [00:11<00:00,  2.97s/it]\n"
          ]
        },
        {
          "name": "stdout",
          "output_type": "stream",
          "text": [
            "Epoch 5/5\n",
            "Train loss: 0.0685 | Train acc: 0.9383\n",
            "Val loss:   0.0526 | Val acc:   0.9327\n",
            "✅ Val loss giảm (0.0526 → 0.0526). Lưu model ...\n"
          ]
        },
        {
          "name": "stderr",
          "output_type": "stream",
          "text": [
            "Evaluating: 100%|██████████| 4/4 [00:11<00:00,  2.94s/it]\n"
          ]
        },
        {
          "name": "stdout",
          "output_type": "stream",
          "text": [
            "\n",
            "==============================\n",
            "🔹 Fold 7/10\n",
            "==============================\n"
          ]
        },
        {
          "name": "stderr",
          "output_type": "stream",
          "text": [
            "Some weights of RobertaForSequenceClassification were not initialized from the model checkpoint at vinai/phobert-base and are newly initialized: ['classifier.dense.bias', 'classifier.dense.weight', 'classifier.out_proj.bias', 'classifier.out_proj.weight']\n",
            "You should probably TRAIN this model on a down-stream task to be able to use it for predictions and inference.\n",
            "Training: 100%|██████████| 59/59 [03:28<00:00,  3.54s/it]\n",
            "Evaluating: 100%|██████████| 4/4 [00:08<00:00,  2.21s/it]\n"
          ]
        },
        {
          "name": "stdout",
          "output_type": "stream",
          "text": [
            "Epoch 1/5\n",
            "Train loss: 0.6809 | Train acc: 0.6043\n",
            "Val loss:   0.5124 | Val acc:   0.7788\n",
            "✅ Val loss giảm (0.5124 → 0.5124). Lưu model ...\n"
          ]
        },
        {
          "name": "stderr",
          "output_type": "stream",
          "text": [
            "Training: 100%|██████████| 59/59 [03:22<00:00,  3.44s/it]\n",
            "Evaluating: 100%|██████████| 4/4 [00:08<00:00,  2.24s/it]\n"
          ]
        },
        {
          "name": "stdout",
          "output_type": "stream",
          "text": [
            "Epoch 2/5\n",
            "Train loss: 0.3860 | Train acc: 0.8904\n",
            "Val loss:   0.1802 | Val acc:   0.8942\n",
            "✅ Val loss giảm (0.1802 → 0.1802). Lưu model ...\n"
          ]
        },
        {
          "name": "stderr",
          "output_type": "stream",
          "text": [
            "Training: 100%|██████████| 59/59 [03:41<00:00,  3.75s/it]\n",
            "Evaluating: 100%|██████████| 4/4 [00:10<00:00,  2.64s/it]\n"
          ]
        },
        {
          "name": "stdout",
          "output_type": "stream",
          "text": [
            "Epoch 3/5\n",
            "Train loss: 0.1598 | Train acc: 0.9191\n",
            "Val loss:   0.1007 | Val acc:   0.8846\n",
            "✅ Val loss giảm (0.1007 → 0.1007). Lưu model ...\n"
          ]
        },
        {
          "name": "stderr",
          "output_type": "stream",
          "text": [
            "Training: 100%|██████████| 59/59 [03:59<00:00,  4.06s/it]\n",
            "Evaluating: 100%|██████████| 4/4 [00:08<00:00,  2.20s/it]\n"
          ]
        },
        {
          "name": "stdout",
          "output_type": "stream",
          "text": [
            "Epoch 4/5\n",
            "Train loss: 0.1002 | Train acc: 0.9287\n",
            "Val loss:   0.0669 | Val acc:   0.8846\n",
            "✅ Val loss giảm (0.0669 → 0.0669). Lưu model ...\n"
          ]
        },
        {
          "name": "stderr",
          "output_type": "stream",
          "text": [
            "Training: 100%|██████████| 59/59 [03:57<00:00,  4.02s/it]\n",
            "Evaluating: 100%|██████████| 4/4 [00:09<00:00,  2.49s/it]\n"
          ]
        },
        {
          "name": "stdout",
          "output_type": "stream",
          "text": [
            "Epoch 5/5\n",
            "Train loss: 0.0804 | Train acc: 0.9479\n",
            "Val loss:   0.0655 | Val acc:   0.8846\n",
            "⏳ EarlyStopping counter: 1 / 2\n"
          ]
        },
        {
          "name": "stderr",
          "output_type": "stream",
          "text": [
            "Evaluating: 100%|██████████| 4/4 [00:09<00:00,  2.26s/it]\n"
          ]
        },
        {
          "name": "stdout",
          "output_type": "stream",
          "text": [
            "\n",
            "==============================\n",
            "🔹 Fold 8/10\n",
            "==============================\n"
          ]
        },
        {
          "name": "stderr",
          "output_type": "stream",
          "text": [
            "Some weights of RobertaForSequenceClassification were not initialized from the model checkpoint at vinai/phobert-base and are newly initialized: ['classifier.dense.bias', 'classifier.dense.weight', 'classifier.out_proj.bias', 'classifier.out_proj.weight']\n",
            "You should probably TRAIN this model on a down-stream task to be able to use it for predictions and inference.\n",
            "Training: 100%|██████████| 59/59 [04:17<00:00,  4.37s/it]\n",
            "Evaluating: 100%|██████████| 4/4 [00:09<00:00,  2.29s/it]\n"
          ]
        },
        {
          "name": "stdout",
          "output_type": "stream",
          "text": [
            "Epoch 1/5\n",
            "Train loss: 0.6366 | Train acc: 0.5117\n",
            "Val loss:   0.4518 | Val acc:   0.8077\n",
            "✅ Val loss giảm (0.4518 → 0.4518). Lưu model ...\n"
          ]
        },
        {
          "name": "stderr",
          "output_type": "stream",
          "text": [
            "Training: 100%|██████████| 59/59 [03:50<00:00,  3.91s/it]\n",
            "Evaluating: 100%|██████████| 4/4 [00:09<00:00,  2.31s/it]\n"
          ]
        },
        {
          "name": "stdout",
          "output_type": "stream",
          "text": [
            "Epoch 2/5\n",
            "Train loss: 0.3350 | Train acc: 0.8457\n",
            "Val loss:   0.1779 | Val acc:   0.9038\n",
            "✅ Val loss giảm (0.1779 → 0.1779). Lưu model ...\n"
          ]
        },
        {
          "name": "stderr",
          "output_type": "stream",
          "text": [
            "Training: 100%|██████████| 59/59 [02:50<00:00,  2.89s/it]\n",
            "Evaluating: 100%|██████████| 4/4 [00:09<00:00,  2.31s/it]\n"
          ]
        },
        {
          "name": "stdout",
          "output_type": "stream",
          "text": [
            "Epoch 3/5\n",
            "Train loss: 0.1649 | Train acc: 0.9096\n",
            "Val loss:   0.0845 | Val acc:   0.9519\n",
            "✅ Val loss giảm (0.0845 → 0.0845). Lưu model ...\n"
          ]
        },
        {
          "name": "stderr",
          "output_type": "stream",
          "text": [
            "Training: 100%|██████████| 59/59 [02:49<00:00,  2.87s/it]\n",
            "Evaluating: 100%|██████████| 4/4 [00:09<00:00,  2.34s/it]\n"
          ]
        },
        {
          "name": "stdout",
          "output_type": "stream",
          "text": [
            "Epoch 4/5\n",
            "Train loss: 0.1078 | Train acc: 0.9511\n",
            "Val loss:   0.0557 | Val acc:   0.9519\n",
            "✅ Val loss giảm (0.0557 → 0.0557). Lưu model ...\n"
          ]
        },
        {
          "name": "stderr",
          "output_type": "stream",
          "text": [
            "Training: 100%|██████████| 59/59 [02:50<00:00,  2.90s/it]\n",
            "Evaluating: 100%|██████████| 4/4 [00:09<00:00,  2.32s/it]\n"
          ]
        },
        {
          "name": "stdout",
          "output_type": "stream",
          "text": [
            "Epoch 5/5\n",
            "Train loss: 0.0935 | Train acc: 0.9500\n",
            "Val loss:   0.0507 | Val acc:   0.9519\n",
            "⏳ EarlyStopping counter: 1 / 2\n"
          ]
        },
        {
          "name": "stderr",
          "output_type": "stream",
          "text": [
            "Evaluating: 100%|██████████| 4/4 [00:09<00:00,  2.35s/it]\n"
          ]
        },
        {
          "name": "stdout",
          "output_type": "stream",
          "text": [
            "\n",
            "==============================\n",
            "🔹 Fold 9/10\n",
            "==============================\n"
          ]
        },
        {
          "name": "stderr",
          "output_type": "stream",
          "text": [
            "Some weights of RobertaForSequenceClassification were not initialized from the model checkpoint at vinai/phobert-base and are newly initialized: ['classifier.dense.bias', 'classifier.dense.weight', 'classifier.out_proj.bias', 'classifier.out_proj.weight']\n",
            "You should probably TRAIN this model on a down-stream task to be able to use it for predictions and inference.\n",
            "Training: 100%|██████████| 59/59 [02:39<00:00,  2.71s/it]\n",
            "Evaluating: 100%|██████████| 4/4 [00:07<00:00,  1.78s/it]\n"
          ]
        },
        {
          "name": "stdout",
          "output_type": "stream",
          "text": [
            "Epoch 1/5\n",
            "Train loss: 0.6463 | Train acc: 0.5638\n",
            "Val loss:   0.5540 | Val acc:   0.7596\n",
            "✅ Val loss giảm (0.5540 → 0.5540). Lưu model ...\n"
          ]
        },
        {
          "name": "stderr",
          "output_type": "stream",
          "text": [
            "Training: 100%|██████████| 59/59 [02:48<00:00,  2.86s/it]\n",
            "Evaluating: 100%|██████████| 4/4 [00:07<00:00,  1.78s/it]\n"
          ]
        },
        {
          "name": "stdout",
          "output_type": "stream",
          "text": [
            "Epoch 2/5\n",
            "Train loss: 0.3661 | Train acc: 0.8383\n",
            "Val loss:   0.2761 | Val acc:   0.9135\n",
            "✅ Val loss giảm (0.2761 → 0.2761). Lưu model ...\n"
          ]
        },
        {
          "name": "stderr",
          "output_type": "stream",
          "text": [
            "Training: 100%|██████████| 59/59 [02:41<00:00,  2.74s/it]\n",
            "Evaluating: 100%|██████████| 4/4 [00:07<00:00,  1.95s/it]\n"
          ]
        },
        {
          "name": "stdout",
          "output_type": "stream",
          "text": [
            "Epoch 3/5\n",
            "Train loss: 0.1872 | Train acc: 0.9074\n",
            "Val loss:   0.1829 | Val acc:   0.8942\n",
            "✅ Val loss giảm (0.1829 → 0.1829). Lưu model ...\n"
          ]
        },
        {
          "name": "stderr",
          "output_type": "stream",
          "text": [
            "Training: 100%|██████████| 59/59 [02:49<00:00,  2.88s/it]\n",
            "Evaluating: 100%|██████████| 4/4 [00:07<00:00,  1.92s/it]\n"
          ]
        },
        {
          "name": "stdout",
          "output_type": "stream",
          "text": [
            "Epoch 4/5\n",
            "Train loss: 0.1012 | Train acc: 0.9372\n",
            "Val loss:   0.1635 | Val acc:   0.8942\n",
            "✅ Val loss giảm (0.1635 → 0.1635). Lưu model ...\n"
          ]
        },
        {
          "name": "stderr",
          "output_type": "stream",
          "text": [
            "Training: 100%|██████████| 59/59 [02:42<00:00,  2.76s/it]\n",
            "Evaluating: 100%|██████████| 4/4 [00:07<00:00,  1.94s/it]\n"
          ]
        },
        {
          "name": "stdout",
          "output_type": "stream",
          "text": [
            "Epoch 5/5\n",
            "Train loss: 0.0875 | Train acc: 0.9340\n",
            "Val loss:   0.1563 | Val acc:   0.8942\n",
            "⏳ EarlyStopping counter: 1 / 2\n"
          ]
        },
        {
          "name": "stderr",
          "output_type": "stream",
          "text": [
            "Evaluating: 100%|██████████| 4/4 [00:07<00:00,  1.94s/it]\n"
          ]
        },
        {
          "name": "stdout",
          "output_type": "stream",
          "text": [
            "\n",
            "==============================\n",
            "🔹 Fold 10/10\n",
            "==============================\n"
          ]
        },
        {
          "name": "stderr",
          "output_type": "stream",
          "text": [
            "Some weights of RobertaForSequenceClassification were not initialized from the model checkpoint at vinai/phobert-base and are newly initialized: ['classifier.dense.bias', 'classifier.dense.weight', 'classifier.out_proj.bias', 'classifier.out_proj.weight']\n",
            "You should probably TRAIN this model on a down-stream task to be able to use it for predictions and inference.\n",
            "Training: 100%|██████████| 59/59 [02:15<00:00,  2.30s/it]\n",
            "Evaluating: 100%|██████████| 4/4 [00:06<00:00,  1.64s/it]\n"
          ]
        },
        {
          "name": "stdout",
          "output_type": "stream",
          "text": [
            "Epoch 1/5\n",
            "Train loss: 0.6464 | Train acc: 0.5957\n",
            "Val loss:   0.4831 | Val acc:   0.7500\n",
            "✅ Val loss giảm (0.4831 → 0.4831). Lưu model ...\n"
          ]
        },
        {
          "name": "stderr",
          "output_type": "stream",
          "text": [
            "Training: 100%|██████████| 59/59 [02:19<00:00,  2.36s/it]\n",
            "Evaluating: 100%|██████████| 4/4 [00:06<00:00,  1.63s/it]\n"
          ]
        },
        {
          "name": "stdout",
          "output_type": "stream",
          "text": [
            "Epoch 2/5\n",
            "Train loss: 0.3930 | Train acc: 0.8266\n",
            "Val loss:   0.1871 | Val acc:   0.9231\n",
            "✅ Val loss giảm (0.1871 → 0.1871). Lưu model ...\n"
          ]
        },
        {
          "name": "stderr",
          "output_type": "stream",
          "text": [
            "Training: 100%|██████████| 59/59 [02:16<00:00,  2.32s/it]\n",
            "Evaluating: 100%|██████████| 4/4 [00:06<00:00,  1.62s/it]\n"
          ]
        },
        {
          "name": "stdout",
          "output_type": "stream",
          "text": [
            "Epoch 3/5\n",
            "Train loss: 0.2031 | Train acc: 0.9181\n",
            "Val loss:   0.1083 | Val acc:   0.9327\n",
            "✅ Val loss giảm (0.1083 → 0.1083). Lưu model ...\n"
          ]
        },
        {
          "name": "stderr",
          "output_type": "stream",
          "text": [
            "Training: 100%|██████████| 59/59 [02:17<00:00,  2.33s/it]\n",
            "Evaluating: 100%|██████████| 4/4 [00:06<00:00,  1.65s/it]\n"
          ]
        },
        {
          "name": "stdout",
          "output_type": "stream",
          "text": [
            "Epoch 4/5\n",
            "Train loss: 0.1283 | Train acc: 0.9372\n",
            "Val loss:   0.0827 | Val acc:   0.9423\n",
            "✅ Val loss giảm (0.0827 → 0.0827). Lưu model ...\n"
          ]
        },
        {
          "name": "stderr",
          "output_type": "stream",
          "text": [
            "Training: 100%|██████████| 59/59 [02:15<00:00,  2.30s/it]\n",
            "Evaluating: 100%|██████████| 4/4 [00:06<00:00,  1.62s/it]\n"
          ]
        },
        {
          "name": "stdout",
          "output_type": "stream",
          "text": [
            "Epoch 5/5\n",
            "Train loss: 0.0983 | Train acc: 0.9426\n",
            "Val loss:   0.0771 | Val acc:   0.9423\n",
            "⏳ EarlyStopping counter: 1 / 2\n"
          ]
        },
        {
          "name": "stderr",
          "output_type": "stream",
          "text": [
            "Evaluating: 100%|██████████| 4/4 [00:06<00:00,  1.62s/it]"
          ]
        },
        {
          "name": "stdout",
          "output_type": "stream",
          "text": [
            "\n",
            "🎯 Kết quả trung bình qua các folds:\n",
            "Mean Val Accuracy: 0.9052 ± 0.0365\n"
          ]
        },
        {
          "name": "stderr",
          "output_type": "stream",
          "text": [
            "\n"
          ]
        }
      ],
      "source": [
        "EPOCHS = 5\n",
        "N_SPLITS = 10\n",
        "MODEL_NAME = \"vinai/phobert-base\"\n",
        "    \n",
        "# Khởi tạo tokenizer\n",
        "tokenizer = AutoTokenizer.from_pretrained(MODEL_NAME, use_fast=False)\n",
        "\n",
        "\n",
        "skf = StratifiedKFold(n_splits=N_SPLITS, shuffle=True, random_state=42)\n",
        "\n",
        "X = general_df[\"question_note\"].values\n",
        "y = general_df[\"Subject\"].values\n",
        "\n",
        "fold_results = []\n",
        "\n",
        "for fold, (train_idx, val_idx) in enumerate(skf.split(X, y)):\n",
        "    print(f\"\\n{'='*30}\")\n",
        "    print(f\"🔹 Fold {fold+1}/{N_SPLITS}\")\n",
        "    print(f\"{'='*30}\")\n",
        "\n",
        "    train_df = general_df.iloc[train_idx].reset_index(drop=True)\n",
        "    val_df = general_df.iloc[val_idx].reset_index(drop=True)\n",
        "\n",
        "    train_dataset = LawDataset(train_df, tokenizer)\n",
        "    val_dataset   = LawDataset(val_df, tokenizer)\n",
        "\n",
        "    train_loader = DataLoader(train_dataset, batch_size=16, shuffle=True)\n",
        "    val_loader   = DataLoader(val_dataset, batch_size=32)\n",
        "\n",
        "    num_labels = len(set(train_df[\"Subject\"]))  # số lớp\n",
        "\n",
        "    model = AutoModelForSequenceClassification.from_pretrained(\n",
        "        MODEL_NAME,\n",
        "        num_labels=num_labels\n",
        "    )\n",
        "\n",
        "    model.to(device)\n",
        "    # Optimizer và scheduler\n",
        "    optimizer = torch.optim.AdamW(model.parameters(), lr=2e-5, weight_decay=1e-2)\n",
        "\n",
        "    num_training_steps = len(train_loader) * 5  # 5 epochs\n",
        "    lr_scheduler = get_scheduler(\n",
        "        \"linear\",\n",
        "        optimizer=optimizer,\n",
        "        num_warmup_steps=0,\n",
        "        num_training_steps=num_training_steps\n",
        "    )\n",
        "\n",
        "    # Tính class-weight\n",
        "    labels = train_df[\"Subject\"].values\n",
        "\n",
        "    class_counts = np.bincount(labels, minlength=num_labels)\n",
        "    class_weights = len(labels) / (num_labels * class_counts)\n",
        "    class_weights_tensor = torch.tensor(class_weights, dtype=torch.float).to(device)\n",
        "\n",
        "    criterion = FocalLoss(alpha=class_weights_tensor, gamma=2.0)\n",
        "\n",
        "    # Early stopping cho từng fold\n",
        "    checkpoint_path = f\"models/baseline_phoBERT_fold{fold+1}.pt\"\n",
        "    early_stopping = EarlyStopping(patience=2, delta=0.01, path=checkpoint_path)\n",
        "\n",
        "    # Huấn luyện\n",
        "    for epoch in range(EPOCHS):\n",
        "        train_loss, train_acc = train_epoch(model, train_loader, criterion, optimizer, lr_scheduler)\n",
        "        val_loss, val_acc, _, _ = eval_epoch(model, val_loader, criterion)\n",
        "\n",
        "        print(f\"Epoch {epoch+1}/{EPOCHS}\")\n",
        "        print(f\"Train loss: {train_loss:.4f} | Train acc: {train_acc:.4f}\")\n",
        "        print(f\"Val loss:   {val_loss:.4f} | Val acc:   {val_acc:.4f}\")\n",
        "\n",
        "        early_stopping(val_loss, model)\n",
        "        if early_stopping.early_stop:\n",
        "            print(\"🛑 Early stopping\")\n",
        "            break\n",
        "\n",
        "    # Load lại model tốt nhất\n",
        "    model.load_state_dict(torch.load(checkpoint_path))\n",
        "    val_loss, val_acc, _, _ = eval_epoch(model, val_loader, criterion)\n",
        "    fold_results.append(val_acc)\n",
        "\n",
        "print(\"\\n🎯 Kết quả trung bình qua các folds:\")\n",
        "print(f\"Mean Val Accuracy: {np.mean(fold_results):.4f} ± {np.std(fold_results):.4f}\")\n"
      ]
    },
    {
      "cell_type": "markdown",
      "id": "1b13ba72",
      "metadata": {
        "id": "1b13ba72"
      },
      "source": [
        "### Đánh giá mô hình"
      ]
    },
    {
      "cell_type": "code",
      "execution_count": 13,
      "id": "22a2a246",
      "metadata": {
        "id": "22a2a246",
        "outputId": "414be4bb-9b7b-46d9-d5dc-6b4d3dd4320c"
      },
      "outputs": [
        {
          "name": "stdout",
          "output_type": "stream",
          "text": [
            "\n",
            "========================================\n",
            "🔹 Đánh giá Fold 1: models/baseline_phoBERT_fold1.pt\n",
            "========================================\n"
          ]
        },
        {
          "name": "stderr",
          "output_type": "stream",
          "text": [
            "Some weights of RobertaForSequenceClassification were not initialized from the model checkpoint at vinai/phobert-base and are newly initialized: ['classifier.dense.bias', 'classifier.dense.weight', 'classifier.out_proj.bias', 'classifier.out_proj.weight']\n",
            "You should probably TRAIN this model on a down-stream task to be able to use it for predictions and inference.\n"
          ]
        },
        {
          "name": "stdout",
          "output_type": "stream",
          "text": [
            "\n",
            "📊 Classification Report (Fold 1 )\n",
            "              precision    recall  f1-score   support\n",
            "\n",
            "           0     1.0000    1.0000    1.0000         1\n",
            "           1     0.7714    0.9643    0.8571        28\n",
            "           2     1.0000    0.3333    0.5000         3\n",
            "           3     0.9625    0.9059    0.9333        85\n",
            "\n",
            "    accuracy                         0.9060       117\n",
            "   macro avg     0.9335    0.8009    0.8226       117\n",
            "weighted avg     0.9181    0.9060    0.9046       117\n",
            "\n"
          ]
        },
        {
          "data": {
            "image/png": "[encoded data removed]",
            "text/plain": [
              "<Figure size 600x500 with 2 Axes>"
            ]
          },
          "metadata": {},
          "output_type": "display_data"
        },
        {
          "name": "stdout",
          "output_type": "stream",
          "text": [
            "\n",
            "========================================\n",
            "🔹 Đánh giá Fold 2: models/baseline_phoBERT_fold2.pt\n",
            "========================================\n"
          ]
        },
        {
          "name": "stderr",
          "output_type": "stream",
          "text": [
            "Some weights of RobertaForSequenceClassification were not initialized from the model checkpoint at vinai/phobert-base and are newly initialized: ['classifier.dense.bias', 'classifier.dense.weight', 'classifier.out_proj.bias', 'classifier.out_proj.weight']\n",
            "You should probably TRAIN this model on a down-stream task to be able to use it for predictions and inference.\n"
          ]
        },
        {
          "name": "stdout",
          "output_type": "stream",
          "text": [
            "\n",
            "📊 Classification Report (Fold 2 )\n",
            "              precision    recall  f1-score   support\n",
            "\n",
            "           0     0.2500    1.0000    0.4000         1\n",
            "           1     0.7812    0.8929    0.8333        28\n",
            "           2     0.5000    1.0000    0.6667         3\n",
            "           3     0.9600    0.8471    0.9000        85\n",
            "\n",
            "    accuracy                         0.8632       117\n",
            "   macro avg     0.6228    0.9350    0.7000       117\n",
            "weighted avg     0.8994    0.8632    0.8738       117\n",
            "\n"
          ]
        },
        {
          "data": {
            "image/png": "[encoded data removed]",
            "text/plain": [
              "<Figure size 600x500 with 2 Axes>"
            ]
          },
          "metadata": {},
          "output_type": "display_data"
        },
        {
          "name": "stdout",
          "output_type": "stream",
          "text": [
            "\n",
            "========================================\n",
            "🔹 Đánh giá Fold 3: models/baseline_phoBERT_fold3.pt\n",
            "========================================\n"
          ]
        },
        {
          "name": "stderr",
          "output_type": "stream",
          "text": [
            "Some weights of RobertaForSequenceClassification were not initialized from the model checkpoint at vinai/phobert-base and are newly initialized: ['classifier.dense.bias', 'classifier.dense.weight', 'classifier.out_proj.bias', 'classifier.out_proj.weight']\n",
            "You should probably TRAIN this model on a down-stream task to be able to use it for predictions and inference.\n"
          ]
        },
        {
          "name": "stdout",
          "output_type": "stream",
          "text": [
            "\n",
            "📊 Classification Report (Fold 3 )\n",
            "              precision    recall  f1-score   support\n",
            "\n",
            "           0     0.5000    1.0000    0.6667         1\n",
            "           1     0.8889    0.8571    0.8727        28\n",
            "           2     0.2000    0.6667    0.3077         3\n",
            "           3     0.9487    0.8706    0.9080        85\n",
            "\n",
            "    accuracy                         0.8632       117\n",
            "   macro avg     0.6344    0.8486    0.6888       117\n",
            "weighted avg     0.9114    0.8632    0.8821       117\n",
            "\n"
          ]
        },
        {
          "data": {
            "image/png": "[encoded data removed]",
            "text/plain": [
              "<Figure size 600x500 with 2 Axes>"
            ]
          },
          "metadata": {},
          "output_type": "display_data"
        },
        {
          "name": "stdout",
          "output_type": "stream",
          "text": [
            "\n",
            "========================================\n",
            "🔹 Đánh giá Fold 4: models/baseline_phoBERT_fold4.pt\n",
            "========================================\n"
          ]
        },
        {
          "name": "stderr",
          "output_type": "stream",
          "text": [
            "Some weights of RobertaForSequenceClassification were not initialized from the model checkpoint at vinai/phobert-base and are newly initialized: ['classifier.dense.bias', 'classifier.dense.weight', 'classifier.out_proj.bias', 'classifier.out_proj.weight']\n",
            "You should probably TRAIN this model on a down-stream task to be able to use it for predictions and inference.\n"
          ]
        },
        {
          "name": "stdout",
          "output_type": "stream",
          "text": [
            "\n",
            "📊 Classification Report (Fold 4 )\n",
            "              precision    recall  f1-score   support\n",
            "\n",
            "           0     0.3333    1.0000    0.5000         1\n",
            "           1     0.8000    0.8571    0.8276        28\n",
            "           2     0.4286    1.0000    0.6000         3\n",
            "           3     0.9481    0.8588    0.9012        85\n",
            "\n",
            "    accuracy                         0.8632       117\n",
            "   macro avg     0.6275    0.9290    0.7072       117\n",
            "weighted avg     0.8940    0.8632    0.8725       117\n",
            "\n"
          ]
        },
        {
          "data": {
            "image/png": "[encoded data removed]",
            "text/plain": [
              "<Figure size 600x500 with 2 Axes>"
            ]
          },
          "metadata": {},
          "output_type": "display_data"
        },
        {
          "name": "stdout",
          "output_type": "stream",
          "text": [
            "\n",
            "========================================\n",
            "🔹 Đánh giá Fold 5: models/baseline_phoBERT_fold5.pt\n",
            "========================================\n"
          ]
        },
        {
          "name": "stderr",
          "output_type": "stream",
          "text": [
            "Some weights of RobertaForSequenceClassification were not initialized from the model checkpoint at vinai/phobert-base and are newly initialized: ['classifier.dense.bias', 'classifier.dense.weight', 'classifier.out_proj.bias', 'classifier.out_proj.weight']\n",
            "You should probably TRAIN this model on a down-stream task to be able to use it for predictions and inference.\n"
          ]
        },
        {
          "name": "stdout",
          "output_type": "stream",
          "text": [
            "\n",
            "📊 Classification Report (Fold 5 )\n",
            "              precision    recall  f1-score   support\n",
            "\n",
            "           0     0.0000    0.0000    0.0000         1\n",
            "           1     0.9091    0.7143    0.8000        28\n",
            "           2     0.1667    0.3333    0.2222         3\n",
            "           3     0.8764    0.9176    0.8966        85\n",
            "\n",
            "    accuracy                         0.8462       117\n",
            "   macro avg     0.4880    0.4913    0.4797       117\n",
            "weighted avg     0.8585    0.8462    0.8485       117\n",
            "\n"
          ]
        },
        {
          "name": "stderr",
          "output_type": "stream",
          "text": [
            "c:\\Users\\Quyen\\miniconda3\\envs\\ml\\Lib\\site-packages\\sklearn\\metrics\\_classification.py:1731: UndefinedMetricWarning: Precision is ill-defined and being set to 0.0 in labels with no predicted samples. Use `zero_division` parameter to control this behavior.\n",
            "  _warn_prf(average, modifier, f\"{metric.capitalize()} is\", result.shape[0])\n",
            "c:\\Users\\Quyen\\miniconda3\\envs\\ml\\Lib\\site-packages\\sklearn\\metrics\\_classification.py:1731: UndefinedMetricWarning: Precision is ill-defined and being set to 0.0 in labels with no predicted samples. Use `zero_division` parameter to control this behavior.\n",
            "  _warn_prf(average, modifier, f\"{metric.capitalize()} is\", result.shape[0])\n",
            "c:\\Users\\Quyen\\miniconda3\\envs\\ml\\Lib\\site-packages\\sklearn\\metrics\\_classification.py:1731: UndefinedMetricWarning: Precision is ill-defined and being set to 0.0 in labels with no predicted samples. Use `zero_division` parameter to control this behavior.\n",
            "  _warn_prf(average, modifier, f\"{metric.capitalize()} is\", result.shape[0])\n",
            "c:\\Users\\Quyen\\miniconda3\\envs\\ml\\Lib\\site-packages\\sklearn\\metrics\\_classification.py:1731: UndefinedMetricWarning: Precision is ill-defined and being set to 0.0 in labels with no predicted samples. Use `zero_division` parameter to control this behavior.\n",
            "  _warn_prf(average, modifier, f\"{metric.capitalize()} is\", result.shape[0])\n",
            "c:\\Users\\Quyen\\miniconda3\\envs\\ml\\Lib\\site-packages\\sklearn\\metrics\\_classification.py:1731: UndefinedMetricWarning: Precision is ill-defined and being set to 0.0 in labels with no predicted samples. Use `zero_division` parameter to control this behavior.\n",
            "  _warn_prf(average, modifier, f\"{metric.capitalize()} is\", result.shape[0])\n",
            "c:\\Users\\Quyen\\miniconda3\\envs\\ml\\Lib\\site-packages\\sklearn\\metrics\\_classification.py:1731: UndefinedMetricWarning: Precision is ill-defined and being set to 0.0 in labels with no predicted samples. Use `zero_division` parameter to control this behavior.\n",
            "  _warn_prf(average, modifier, f\"{metric.capitalize()} is\", result.shape[0])\n"
          ]
        },
        {
          "data": {
            "image/png": "[encoded data removed]",
            "text/plain": [
              "<Figure size 600x500 with 2 Axes>"
            ]
          },
          "metadata": {},
          "output_type": "display_data"
        },
        {
          "name": "stdout",
          "output_type": "stream",
          "text": [
            "\n",
            "========================================\n",
            "🔹 Đánh giá Fold 6: models/baseline_phoBERT_fold6.pt\n",
            "========================================\n"
          ]
        },
        {
          "name": "stderr",
          "output_type": "stream",
          "text": [
            "Some weights of RobertaForSequenceClassification were not initialized from the model checkpoint at vinai/phobert-base and are newly initialized: ['classifier.dense.bias', 'classifier.dense.weight', 'classifier.out_proj.bias', 'classifier.out_proj.weight']\n",
            "You should probably TRAIN this model on a down-stream task to be able to use it for predictions and inference.\n"
          ]
        },
        {
          "name": "stdout",
          "output_type": "stream",
          "text": [
            "\n",
            "📊 Classification Report (Fold 6 )\n",
            "              precision    recall  f1-score   support\n",
            "\n",
            "           0     0.2500    1.0000    0.4000         1\n",
            "           1     0.7222    0.9286    0.8125        28\n",
            "           2     0.7500    1.0000    0.8571         3\n",
            "           3     0.9726    0.8353    0.8987        85\n",
            "\n",
            "    accuracy                         0.8632       117\n",
            "   macro avg     0.6737    0.9410    0.7421       117\n",
            "weighted avg     0.9008    0.8632    0.8728       117\n",
            "\n"
          ]
        },
        {
          "data": {
            "image/png": "[encoded data removed]",
            "text/plain": [
              "<Figure size 600x500 with 2 Axes>"
            ]
          },
          "metadata": {},
          "output_type": "display_data"
        },
        {
          "name": "stdout",
          "output_type": "stream",
          "text": [
            "\n",
            "========================================\n",
            "🔹 Đánh giá Fold 7: models/baseline_phoBERT_fold7.pt\n",
            "========================================\n"
          ]
        },
        {
          "name": "stderr",
          "output_type": "stream",
          "text": [
            "Some weights of RobertaForSequenceClassification were not initialized from the model checkpoint at vinai/phobert-base and are newly initialized: ['classifier.dense.bias', 'classifier.dense.weight', 'classifier.out_proj.bias', 'classifier.out_proj.weight']\n",
            "You should probably TRAIN this model on a down-stream task to be able to use it for predictions and inference.\n"
          ]
        },
        {
          "name": "stdout",
          "output_type": "stream",
          "text": [
            "\n",
            "📊 Classification Report (Fold 7 )\n",
            "              precision    recall  f1-score   support\n",
            "\n",
            "           0     0.2500    1.0000    0.4000         1\n",
            "           1     0.7879    0.9286    0.8525        28\n",
            "           2     1.0000    0.6667    0.8000         3\n",
            "           3     0.9615    0.8824    0.9202        85\n",
            "\n",
            "    accuracy                         0.8889       117\n",
            "   macro avg     0.7499    0.8694    0.7432       117\n",
            "weighted avg     0.9149    0.8889    0.8965       117\n",
            "\n"
          ]
        },
        {
          "data": {
            "image/png": "[encoded data removed]",
            "text/plain": [
              "<Figure size 600x500 with 2 Axes>"
            ]
          },
          "metadata": {},
          "output_type": "display_data"
        },
        {
          "name": "stdout",
          "output_type": "stream",
          "text": [
            "\n",
            "========================================\n",
            "🔹 Đánh giá Fold 8: models/baseline_phoBERT_fold8.pt\n",
            "========================================\n"
          ]
        },
        {
          "name": "stderr",
          "output_type": "stream",
          "text": [
            "Some weights of RobertaForSequenceClassification were not initialized from the model checkpoint at vinai/phobert-base and are newly initialized: ['classifier.dense.bias', 'classifier.dense.weight', 'classifier.out_proj.bias', 'classifier.out_proj.weight']\n",
            "You should probably TRAIN this model on a down-stream task to be able to use it for predictions and inference.\n"
          ]
        },
        {
          "name": "stdout",
          "output_type": "stream",
          "text": [
            "\n",
            "📊 Classification Report (Fold 8 )\n",
            "              precision    recall  f1-score   support\n",
            "\n",
            "           0     0.2500    1.0000    0.4000         1\n",
            "           1     0.8000    0.8571    0.8276        28\n",
            "           2     0.7500    1.0000    0.8571         3\n",
            "           3     0.9494    0.8824    0.9146        85\n",
            "\n",
            "    accuracy                         0.8803       117\n",
            "   macro avg     0.6873    0.9349    0.7498       117\n",
            "weighted avg     0.9025    0.8803    0.8879       117\n",
            "\n"
          ]
        },
        {
          "data": {
            "image/png": "[encoded data removed]",
            "text/plain": [
              "<Figure size 600x500 with 2 Axes>"
            ]
          },
          "metadata": {},
          "output_type": "display_data"
        },
        {
          "name": "stdout",
          "output_type": "stream",
          "text": [
            "\n",
            "========================================\n",
            "🔹 Đánh giá Fold 9: models/baseline_phoBERT_fold9.pt\n",
            "========================================\n"
          ]
        },
        {
          "name": "stderr",
          "output_type": "stream",
          "text": [
            "Some weights of RobertaForSequenceClassification were not initialized from the model checkpoint at vinai/phobert-base and are newly initialized: ['classifier.dense.bias', 'classifier.dense.weight', 'classifier.out_proj.bias', 'classifier.out_proj.weight']\n",
            "You should probably TRAIN this model on a down-stream task to be able to use it for predictions and inference.\n"
          ]
        },
        {
          "name": "stdout",
          "output_type": "stream",
          "text": [
            "\n",
            "📊 Classification Report (Fold 9 )\n",
            "              precision    recall  f1-score   support\n",
            "\n",
            "           0     0.2000    1.0000    0.3333         1\n",
            "           1     0.7647    0.9286    0.8387        28\n",
            "           2     0.6667    0.6667    0.6667         3\n",
            "           3     0.9733    0.8588    0.9125        85\n",
            "\n",
            "    accuracy                         0.8718       117\n",
            "   macro avg     0.6512    0.8635    0.6878       117\n",
            "weighted avg     0.9089    0.8718    0.8836       117\n",
            "\n"
          ]
        },
        {
          "data": {
            "image/png": "[encoded data removed]",
            "text/plain": [
              "<Figure size 600x500 with 2 Axes>"
            ]
          },
          "metadata": {},
          "output_type": "display_data"
        },
        {
          "name": "stdout",
          "output_type": "stream",
          "text": [
            "\n",
            "========================================\n",
            "🔹 Đánh giá Fold 10: models/baseline_phoBERT_fold10.pt\n",
            "========================================\n"
          ]
        },
        {
          "name": "stderr",
          "output_type": "stream",
          "text": [
            "Some weights of RobertaForSequenceClassification were not initialized from the model checkpoint at vinai/phobert-base and are newly initialized: ['classifier.dense.bias', 'classifier.dense.weight', 'classifier.out_proj.bias', 'classifier.out_proj.weight']\n",
            "You should probably TRAIN this model on a down-stream task to be able to use it for predictions and inference.\n"
          ]
        },
        {
          "name": "stdout",
          "output_type": "stream",
          "text": [
            "\n",
            "📊 Classification Report (Fold 10 )\n",
            "              precision    recall  f1-score   support\n",
            "\n",
            "           0     0.3333    1.0000    0.5000         1\n",
            "           1     0.8621    0.8929    0.8772        28\n",
            "           2     1.0000    1.0000    1.0000         3\n",
            "           3     0.9634    0.9294    0.9461        85\n",
            "\n",
            "    accuracy                         0.9231       117\n",
            "   macro avg     0.7897    0.9556    0.8308       117\n",
            "weighted avg     0.9347    0.9231    0.9272       117\n",
            "\n"
          ]
        },
        {
          "data": {
            "image/png": "[encoded data removed]",
            "text/plain": [
              "<Figure size 600x500 with 2 Axes>"
            ]
          },
          "metadata": {},
          "output_type": "display_data"
        },
        {
          "name": "stdout",
          "output_type": "stream",
          "text": [
            "\n",
            "🎯 Mean Test Accuracy: 0.8769 ± 0.0220\n",
            "\n",
            "📋 Trung bình các chỉ số qua 10 folds:\n",
            "accuracy    0.876923\n",
            "dtype: float64\n"
          ]
        }
      ],
      "source": [
        "NUM_FOLDS = 10\n",
        "MODEL_NAME = \"vinai/phobert-base\"\n",
        "    \n",
        "# Khởi tạo tokenizer\n",
        "tokenizer = AutoTokenizer.from_pretrained(MODEL_NAME, use_fast=False)\n",
        "\n",
        "# Tạo DataLoader cho tập test\n",
        "test_dataset = LawDataset(test_df, tokenizer)\n",
        "\n",
        "test_loader = DataLoader(test_dataset, batch_size=32, shuffle=False)\n",
        "num_labels = len(set(test_df[\"Subject\"]))  # số lớp\n",
        "\n",
        "# Danh sách lưu kết quả\n",
        "all_fold_reports = []\n",
        "all_fold_confusions = []\n",
        "fold_accs = []\n",
        "\n",
        "for fold in range(1, NUM_FOLDS + 1):\n",
        "    model_path = f\"models/baseline_phoBERT_fold{fold}.pt\"\n",
        "    print(f\"\\n{'='*40}\")\n",
        "    print(f\"🔹 Đánh giá Fold {fold}: {model_path}\")\n",
        "    print(f\"{'='*40}\")\n",
        "\n",
        "    # Khởi tạo model và load trọng số\n",
        "    model = AutoModelForSequenceClassification.from_pretrained(\n",
        "        MODEL_NAME,\n",
        "        num_labels=num_labels\n",
        "    )\n",
        "\n",
        "    model.load_state_dict(torch.load(model_path, map_location=device))\n",
        "    model.to(device)\n",
        "    model.eval()\n",
        "\n",
        "    # Dự đoán trên test set\n",
        "    preds, labels = [], []\n",
        "    with torch.no_grad():\n",
        "        for batch in test_loader:\n",
        "            input_ids = batch[\"input_ids\"].to(device)\n",
        "            attention_mask = batch[\"attention_mask\"].to(device)\n",
        "            targets = batch[\"labels\"].to(device)\n",
        "\n",
        "            outputs = model(input_ids=input_ids, attention_mask=attention_mask)\n",
        "            preds.extend(torch.argmax(outputs.logits, dim=1).cpu().numpy())\n",
        "            labels.extend(targets.cpu().numpy())\n",
        "\n",
        "    preds = np.array(preds)\n",
        "    labels = np.array(labels)\n",
        "\n",
        "    # 🧾 Classification report\n",
        "    report = classification_report(labels, preds, digits=4, output_dict=True)\n",
        "    all_fold_reports.append(report)\n",
        "    fold_accs.append(report[\"accuracy\"])\n",
        "\n",
        "    # 🔢 Confusion matrix\n",
        "    cm = confusion_matrix(labels, preds)\n",
        "    all_fold_confusions.append(cm)\n",
        "\n",
        "    # Hiển thị\n",
        "    print(\"\\n📊 Classification Report (Fold\", fold, \")\")\n",
        "    print(classification_report(labels, preds, digits=4))\n",
        "\n",
        "    # Vẽ heatmap\n",
        "    plt.figure(figsize=(6, 5))\n",
        "    sns.heatmap(cm, annot=True, fmt='d', cmap='Blues',\n",
        "                xticklabels=[f\"{i}\" for i in range(num_labels)],\n",
        "                yticklabels=[f\"{i}\" for i in range(num_labels)])\n",
        "    plt.title(f\"Confusion Matrix - Fold {fold}\")\n",
        "    plt.xlabel(\"Predicted\")\n",
        "    plt.ylabel(\"True\")\n",
        "    plt.tight_layout()\n",
        "    plt.show()\n",
        "\n",
        "# 📈 Tổng kết kết quả\n",
        "print(f\"\\n🎯 Mean Test Accuracy: {np.mean(fold_accs):.4f} ± {np.std(fold_accs):.4f}\")\n",
        "\n",
        "# Nếu muốn xuất trung bình precision/recall/F1\n",
        "df_reports = pd.DataFrame(all_fold_reports)\n",
        "print(\"\\n📋 Trung bình các chỉ số qua 10 folds:\")\n",
        "print(df_reports.mean(numeric_only=True))\n"
      ]
    },
    {
      "cell_type": "markdown",
      "id": "2a54bcb1",
      "metadata": {
        "id": "2a54bcb1"
      },
      "source": [
        "## 2.2 CrossEntropyLoss trên bộ dữ liệu cải thiện"
      ]
    },
    {
      "cell_type": "markdown",
      "id": "92341da9",
      "metadata": {
        "id": "92341da9"
      },
      "source": [
        "### Chia dữ liệu"
      ]
    },
    {
      "cell_type": "code",
      "execution_count": 23,
      "id": "3cdd68d6",
      "metadata": {
        "id": "3cdd68d6"
      },
      "outputs": [
        {
          "name": "stdout",
          "output_type": "stream",
          "text": [
            "Class 0 -> Không có thông tin\n",
            "Class 1 -> NN\n",
            "Class 2 -> VN_bé_hơn_14\n",
            "Class 3 -> VN_lớn_hơn_14\n"
          ]
        }
      ],
      "source": [
        "# Chia dữ liệu train/val/test\n",
        "\n",
        "df = pd.read_excel(\"augmented_data.xlsx\")\n",
        "\n",
        "train_df, tmp_df = train_test_split(df, test_size=0.3, random_state=42, stratify=df[\"Subject\"])    # Cố định random_state để tái lập kết quả, thêm stratify để cân bằng tỉ lệ các lớp\n",
        "val_df, test_df = train_test_split(tmp_df, test_size=0.5, random_state=42, stratify=tmp_df[\"Subject\"])\n",
        "\n",
        "le = LabelEncoder()\n",
        "train_df[\"Subject\"] = le.fit_transform(train_df[\"Subject\"])\n",
        "val_df[\"Subject\"] = le.transform(val_df[\"Subject\"])\n",
        "test_df[\"Subject\"]  = le.transform(test_df[\"Subject\"])\n",
        "\n",
        "# In ra mapping giữa nhãn gốc và số\n",
        "for idx, class_name in enumerate(le.classes_):\n",
        "    print(f\"Class {idx} -> {class_name}\")"
      ]
    },
    {
      "cell_type": "code",
      "execution_count": 24,
      "id": "c9e98cc7",
      "metadata": {
        "id": "c9e98cc7"
      },
      "outputs": [
        {
          "name": "stdout",
          "output_type": "stream",
          "text": [
            "Train class distribution:\n",
            " Subject\n",
            "3    571\n",
            "1    312\n",
            "2    294\n",
            "0    174\n",
            "Name: count, dtype: int64\n",
            "Val class distribution:\n",
            " Subject\n",
            "3    122\n",
            "1     67\n",
            "2     62\n",
            "0     38\n",
            "Name: count, dtype: int64\n",
            "Test class distribution:\n",
            " Subject\n",
            "3    123\n",
            "1     67\n",
            "2     63\n",
            "0     37\n",
            "Name: count, dtype: int64\n"
          ]
        }
      ],
      "source": [
        "# In ra số lượng mẫu của mỗi lớp trong 3 tập dữ liệu\n",
        "print(\"Train class distribution:\\n\", train_df[\"Subject\"].value_counts())\n",
        "print(\"Val class distribution:\\n\", val_df[\"Subject\"].value_counts())\n",
        "print(\"Test class distribution:\\n\", test_df[\"Subject\"].value_counts())"
      ]
    },
    {
      "cell_type": "markdown",
      "id": "1f7f49cd",
      "metadata": {
        "id": "1f7f49cd"
      },
      "source": [
        "### Khởi tạo ban đầu"
      ]
    },
    {
      "cell_type": "code",
      "execution_count": 25,
      "id": "06e1b146",
      "metadata": {
        "id": "06e1b146"
      },
      "outputs": [
        {
          "name": "stderr",
          "output_type": "stream",
          "text": [
            "Some weights of RobertaForSequenceClassification were not initialized from the model checkpoint at vinai/phobert-base and are newly initialized: ['classifier.dense.bias', 'classifier.dense.weight', 'classifier.out_proj.bias', 'classifier.out_proj.weight']\n",
            "You should probably TRAIN this model on a down-stream task to be able to use it for predictions and inference.\n"
          ]
        },
        {
          "data": {
            "text/plain": [
              "RobertaForSequenceClassification(\n",
              "  (roberta): RobertaModel(\n",
              "    (embeddings): RobertaEmbeddings(\n",
              "      (word_embeddings): Embedding(64001, 768, padding_idx=1)\n",
              "      (position_embeddings): Embedding(258, 768, padding_idx=1)\n",
              "      (token_type_embeddings): Embedding(1, 768)\n",
              "      (LayerNorm): LayerNorm((768,), eps=1e-05, elementwise_affine=True)\n",
              "      (dropout): Dropout(p=0.1, inplace=False)\n",
              "    )\n",
              "    (encoder): RobertaEncoder(\n",
              "      (layer): ModuleList(\n",
              "        (0-11): 12 x RobertaLayer(\n",
              "          (attention): RobertaAttention(\n",
              "            (self): RobertaSdpaSelfAttention(\n",
              "              (query): Linear(in_features=768, out_features=768, bias=True)\n",
              "              (key): Linear(in_features=768, out_features=768, bias=True)\n",
              "              (value): Linear(in_features=768, out_features=768, bias=True)\n",
              "              (dropout): Dropout(p=0.1, inplace=False)\n",
              "            )\n",
              "            (output): RobertaSelfOutput(\n",
              "              (dense): Linear(in_features=768, out_features=768, bias=True)\n",
              "              (LayerNorm): LayerNorm((768,), eps=1e-05, elementwise_affine=True)\n",
              "              (dropout): Dropout(p=0.1, inplace=False)\n",
              "            )\n",
              "          )\n",
              "          (intermediate): RobertaIntermediate(\n",
              "            (dense): Linear(in_features=768, out_features=3072, bias=True)\n",
              "            (intermediate_act_fn): GELUActivation()\n",
              "          )\n",
              "          (output): RobertaOutput(\n",
              "            (dense): Linear(in_features=3072, out_features=768, bias=True)\n",
              "            (LayerNorm): LayerNorm((768,), eps=1e-05, elementwise_affine=True)\n",
              "            (dropout): Dropout(p=0.1, inplace=False)\n",
              "          )\n",
              "        )\n",
              "      )\n",
              "    )\n",
              "  )\n",
              "  (classifier): RobertaClassificationHead(\n",
              "    (dense): Linear(in_features=768, out_features=768, bias=True)\n",
              "    (dropout): Dropout(p=0.1, inplace=False)\n",
              "    (out_proj): Linear(in_features=768, out_features=4, bias=True)\n",
              "  )\n",
              ")"
            ]
          },
          "execution_count": 25,
          "metadata": {},
          "output_type": "execute_result"
        }
      ],
      "source": [
        "\n",
        "# Khởi tạo tokenizer\n",
        "MODEL_NAME = \"vinai/phobert-base\"\n",
        "tokenizer = AutoTokenizer.from_pretrained(MODEL_NAME, use_fast=False)\n",
        "\n",
        "train_dataset = LawDataset(train_df, tokenizer)\n",
        "val_dataset   = LawDataset(val_df, tokenizer)\n",
        "test_dataset  = LawDataset(test_df, tokenizer)\n",
        "\n",
        "train_loader = DataLoader(train_dataset, batch_size=16, shuffle=True)\n",
        "val_loader   = DataLoader(val_dataset, batch_size=32)\n",
        "test_loader  = DataLoader(test_dataset, batch_size=32)\n",
        "\n",
        "num_labels = len(set(train_df[\"Subject\"]))  # số lớp\n",
        "\n",
        "model = AutoModelForSequenceClassification.from_pretrained(\n",
        "    MODEL_NAME,\n",
        "    num_labels=num_labels\n",
        ")\n",
        "\n",
        "model.to(device)\n"
      ]
    },
    {
      "cell_type": "markdown",
      "id": "3d13196f",
      "metadata": {
        "id": "3d13196f"
      },
      "source": [
        "### Vòng lặp huấn luyện chính"
      ]
    },
    {
      "cell_type": "code",
      "execution_count": null,
      "id": "8e84629d",
      "metadata": {
        "id": "8e84629d",
        "outputId": "99c428c9-2bc5-4184-aa17-4cc07f3c7d52"
      },
      "outputs": [
        {
          "name": "stderr",
          "output_type": "stream",
          "text": [
            "Training: 100%|██████████| 67/67 [00:57<00:00,  1.17it/s]\n",
            "Evaluating: 100%|██████████| 8/8 [00:05<00:00,  1.35it/s]\n"
          ]
        },
        {
          "name": "stdout",
          "output_type": "stream",
          "text": [
            "Epoch 1/5\n",
            "Train loss: 1.2201 | Train acc: 0.6221\n",
            "Val loss:   0.8020 | Val acc:   0.8690\n",
            "✅ Val loss giảm (0.8020 → 0.8020). Lưu model ...\n"
          ]
        },
        {
          "name": "stderr",
          "output_type": "stream",
          "text": [
            "Training: 100%|██████████| 67/67 [01:10<00:00,  1.05s/it]\n",
            "Evaluating: 100%|██████████| 8/8 [00:05<00:00,  1.35it/s]\n"
          ]
        },
        {
          "name": "stdout",
          "output_type": "stream",
          "text": [
            "Epoch 2/5\n",
            "Train loss: 0.5913 | Train acc: 0.8999\n",
            "Val loss:   0.3568 | Val acc:   0.9039\n",
            "✅ Val loss giảm (0.3568 → 0.3568). Lưu model ...\n"
          ]
        },
        {
          "name": "stderr",
          "output_type": "stream",
          "text": [
            "Training: 100%|██████████| 67/67 [01:15<00:00,  1.13s/it]\n",
            "Evaluating: 100%|██████████| 8/8 [00:05<00:00,  1.39it/s]\n"
          ]
        },
        {
          "name": "stdout",
          "output_type": "stream",
          "text": [
            "Epoch 3/5\n",
            "Train loss: 0.3153 | Train acc: 0.9355\n",
            "Val loss:   0.2908 | Val acc:   0.8908\n",
            "✅ Val loss giảm (0.2908 → 0.2908). Lưu model ...\n"
          ]
        },
        {
          "name": "stderr",
          "output_type": "stream",
          "text": [
            "Training: 100%|██████████| 67/67 [01:07<00:00,  1.00s/it]\n",
            "Evaluating: 100%|██████████| 8/8 [00:06<00:00,  1.31it/s]\n"
          ]
        },
        {
          "name": "stdout",
          "output_type": "stream",
          "text": [
            "Epoch 4/5\n",
            "Train loss: 0.2184 | Train acc: 0.9560\n",
            "Val loss:   0.2392 | Val acc:   0.9389\n",
            "✅ Val loss giảm (0.2392 → 0.2392). Lưu model ...\n"
          ]
        },
        {
          "name": "stderr",
          "output_type": "stream",
          "text": [
            "Training: 100%|██████████| 67/67 [01:19<00:00,  1.19s/it]\n",
            "Evaluating: 100%|██████████| 8/8 [00:06<00:00,  1.28it/s]"
          ]
        },
        {
          "name": "stdout",
          "output_type": "stream",
          "text": [
            "Epoch 5/5\n",
            "Train loss: 0.1658 | Train acc: 0.9719\n",
            "Val loss:   0.2470 | Val acc:   0.9345\n",
            "⏳ EarlyStopping counter: 1 / 2\n"
          ]
        },
        {
          "name": "stderr",
          "output_type": "stream",
          "text": [
            "\n"
          ]
        }
      ],
      "source": [
        "EPOCHS = 5\n",
        "\n",
        "# Optimizer và scheduler\n",
        "optimizer = torch.optim.AdamW(model.parameters(), lr=2e-5)\n",
        "\n",
        "num_training_steps = len(train_loader) * 5  # 5 epochs\n",
        "lr_scheduler = get_scheduler(\n",
        "    \"linear\",\n",
        "    optimizer=optimizer,\n",
        "    num_warmup_steps=0,\n",
        "    num_training_steps=num_training_steps\n",
        ")\n",
        "\n",
        "# Khởi tạo EarlyStopping\n",
        "early_stopping = EarlyStopping(patience=2, delta=0.01, path=\"models/baseline2_phoBERT.pt\")\n",
        "\n",
        "criterion = nn.CrossEntropyLoss()\n",
        "\n",
        "for epoch in range(EPOCHS):\n",
        "    train_loss, train_acc = train_epoch(model, train_loader, criterion, optimizer, lr_scheduler)\n",
        "    val_loss, val_acc, _, _ = eval_epoch(model, val_loader, criterion)\n",
        "\n",
        "    print(f\"Epoch {epoch+1}/{EPOCHS}\")\n",
        "    print(f\"Train loss: {train_loss:.4f} | Train acc: {train_acc:.4f}\")\n",
        "    print(f\"Val loss:   {val_loss:.4f} | Val acc:   {val_acc:.4f}\")\n",
        "\n",
        "    early_stopping(val_loss, model)\n",
        "    if early_stopping.early_stop:\n",
        "        print(\"🛑 Early stopping\")\n",
        "        break\n"
      ]
    },
    {
      "cell_type": "markdown",
      "id": "e03f8719",
      "metadata": {},
      "source": [
        "### Đánh giá mô hình"
      ]
    },
    {
      "cell_type": "code",
      "execution_count": 32,
      "id": "92be0506",
      "metadata": {
        "id": "92be0506",
        "outputId": "89328538-b220-4d87-8da5-392591d00e84"
      },
      "outputs": [
        {
          "name": "stdout",
          "output_type": "stream",
          "text": [
            "Thời gian trung bình mỗi suy luận: 27.43 ms\n",
            "Tốc độ ~ 36.46 câu/giây\n",
            "📊 Test Loss: 0.1130\n",
            "✅ Test Accuracy: 0.9655\n",
            "\n",
            "Classification Report:\n",
            "                    precision    recall  f1-score   support\n",
            "\n",
            "Không có thông tin     1.0000    1.0000    1.0000        37\n",
            "                NN     0.9552    0.9552    0.9552        67\n",
            "      VN_bé_hơn_14     0.9538    0.9841    0.9688        63\n",
            "     VN_lớn_hơn_14     0.9669    0.9512    0.9590       123\n",
            "\n",
            "          accuracy                         0.9655       290\n",
            "         macro avg     0.9690    0.9726    0.9707       290\n",
            "      weighted avg     0.9656    0.9655    0.9655       290\n",
            "\n"
          ]
        },
        {
          "data": {
            "image/png": "[encoded data removed]",
            "text/plain": [
              "<Figure size 700x600 with 2 Axes>"
            ]
          },
          "metadata": {},
          "output_type": "display_data"
        }
      ],
      "source": [
        "def evaluate_model(model, dataloader, criterion, device, label_names=None):\n",
        "    model.eval()\n",
        "    total_loss, total_correct, total = 0, 0, 0\n",
        "\n",
        "    all_preds = []\n",
        "    all_labels = []\n",
        "\n",
        "    start = time.time()\n",
        "\n",
        "    with torch.no_grad():\n",
        "        for batch in dataloader:\n",
        "            input_ids = batch['input_ids'].to(device)\n",
        "            attention_mask = batch['attention_mask'].to(device)\n",
        "            targets = batch['labels'].to(device)\n",
        "\n",
        "            outputs = model(input_ids=input_ids, attention_mask=attention_mask)\n",
        "            logits = outputs.logits\n",
        "            loss = criterion(logits, targets)\n",
        "\n",
        "            total_loss += loss.item()\n",
        "\n",
        "            predictions = torch.argmax(logits, dim=-1)\n",
        "            correct = (predictions == targets).sum().item()\n",
        "            total_correct += correct\n",
        "            total += targets.size(0)\n",
        "\n",
        "            all_preds.extend(predictions.cpu().numpy())\n",
        "            all_labels.extend(targets.cpu().numpy())\n",
        "\n",
        "    end = time.time()\n",
        "    avg_time = (end - start) / 100\n",
        "\n",
        "    print(f\"Thời gian trung bình mỗi suy luận: {avg_time*1000:.2f} ms\")\n",
        "    print(f\"Tốc độ ~ {1/avg_time:.2f} câu/giây\")\n",
        "\n",
        "    avg_loss = total_loss / len(dataloader)\n",
        "    acc = total_correct / total\n",
        "\n",
        "    print(f\"📊 Test Loss: {avg_loss:.4f}\")\n",
        "    print(f\"✅ Test Accuracy: {acc:.4f}\")\n",
        "    print(\"\\nClassification Report:\")\n",
        "    print(classification_report(all_labels, all_preds, target_names=label_names, digits=4))\n",
        "\n",
        "    # --- Confusion Matrix ---\n",
        "    cm = confusion_matrix(all_labels, all_preds)\n",
        "\n",
        "    plt.figure(figsize=(7, 6))\n",
        "    sns.heatmap(cm, annot=True, fmt=\"d\", cmap=\"Blues\",\n",
        "                xticklabels=label_names, yticklabels=label_names)\n",
        "    plt.xlabel(\"Predicted Labels\")\n",
        "    plt.ylabel(\"True Labels\")\n",
        "    plt.title(\"Confusion Matrix\")\n",
        "    plt.show()\n",
        "\n",
        "    return avg_loss, acc, all_preds, all_labels\n",
        "\n",
        "# Load model tốt nhất\n",
        "model.load_state_dict(torch.load(\"models/baseline2_phoBERT.pt\"))\n",
        "model\n",
        "\n",
        "# Lấy tên nhãn từ LabelEncoder\n",
        "label_names = list(le.classes_)\n",
        "\n",
        "# Đánh giá mô hình trên test set\n",
        "test_loss, test_acc, test_preds, test_labels = evaluate_model(\n",
        "    model=model,\n",
        "    dataloader=test_loader,\n",
        "    criterion=nn.CrossEntropyLoss(),\n",
        "    device=device,\n",
        "    label_names=label_names\n",
        ")\n"
      ]
    },
    {
      "cell_type": "code",
      "execution_count": 29,
      "id": "0be5c286",
      "metadata": {},
      "outputs": [
        {
          "name": "stdout",
          "output_type": "stream",
          "text": [
            "Tổng số tham số: 135001348\n",
            "Tham số trainable: 135001348\n"
          ]
        }
      ],
      "source": [
        "total_params = sum(p.numel() for p in model.parameters())\n",
        "trainable_params = sum(p.numel() for p in model.parameters() if p.requires_grad)\n",
        "\n",
        "print(f\"Tổng số tham số: {total_params}\")\n",
        "print(f\"Tham số trainable: {trainable_params}\")"
      ]
    },
    {
      "cell_type": "code",
      "execution_count": 28,
      "id": "ac0005e8",
      "metadata": {
        "id": "ac0005e8",
        "outputId": "6d207a60-58d4-465a-aea3-e0d45f6977d0"
      },
      "outputs": [
        {
          "name": "stdout",
          "output_type": "stream",
          "text": [
            "Câu hỏi: Việc thay đổi nơi ở của một người có ảnh hưởng như thế nào đến việc đăng ký cư trú của họ, và người này phải làm gì để đảm bảo tuân thủ đúng pháp luật?\n",
            "Dự đoán nhãn: VN_lớn_hơn_14\n"
          ]
        }
      ],
      "source": [
        "# Kiểm tra mô hình với câu mới\n",
        "def predict(text, model, tokenizer):\n",
        "    model.eval()\n",
        "    inputs = tokenizer(text, return_tensors=\"pt\", truncation=True, padding=\"max_length\", max_length=256)\n",
        "    inputs = {k: v.to(device) for k, v in inputs.items()}\n",
        "    with torch.no_grad():\n",
        "        outputs = model(**inputs)\n",
        "        logits = outputs.logits\n",
        "        preds = torch.argmax(logits, dim=-1).cpu().numpy()\n",
        "    return le.inverse_transform(preds)[0]\n",
        "\n",
        "text = \"Việc thay đổi nơi ở của một người có ảnh hưởng như thế nào đến việc đăng ký cư trú của họ, và người này phải làm gì để đảm bảo tuân thủ đúng pháp luật?\"\n",
        "print(\"Câu hỏi:\", text)\n",
        "print(\"Dự đoán nhãn:\", predict(text, model, tokenizer))"
      ]
    },
    {
      "cell_type": "markdown",
      "id": "95b00422",
      "metadata": {
        "id": "95b00422"
      },
      "source": [
        "# 3. Mô hình ViLegalBERT"
      ]
    },
    {
      "cell_type": "markdown",
      "id": "4c02b553",
      "metadata": {
        "id": "4c02b553"
      },
      "source": [
        "## 3.1 ViLegalBERT fine-tune"
      ]
    },
    {
      "cell_type": "markdown",
      "id": "63f9adec",
      "metadata": {
        "id": "63f9adec"
      },
      "source": [
        "### Chia dữ liệu"
      ]
    },
    {
      "cell_type": "code",
      "execution_count": 34,
      "id": "86820f9b",
      "metadata": {
        "colab": {
          "base_uri": "https://localhost:8080/"
        },
        "id": "86820f9b",
        "outputId": "e5de45fa-78f4-40b3-84ed-92761ab1fade"
      },
      "outputs": [
        {
          "name": "stdout",
          "output_type": "stream",
          "text": [
            "Class 0 -> Không có thông tin\n",
            "Class 1 -> NN\n",
            "Class 2 -> VN_bé_hơn_14\n",
            "Class 3 -> VN_lớn_hơn_14\n"
          ]
        }
      ],
      "source": [
        "# Chia dữ liệu train/val/test\n",
        "\n",
        "df = pd.read_excel(\"augmented_data.xlsx\")\n",
        "\n",
        "train_df, tmp_df = train_test_split(df, test_size=0.3, random_state=42, stratify=df[\"Subject\"])    # Cố định random_state để tái lập kết quả, thêm stratify để cân bằng tỉ lệ các lớp\n",
        "val_df, test_df = train_test_split(tmp_df, test_size=0.5, random_state=42, stratify=tmp_df[\"Subject\"])\n",
        "\n",
        "le = LabelEncoder()\n",
        "train_df[\"Subject\"] = le.fit_transform(train_df[\"Subject\"])\n",
        "val_df[\"Subject\"] = le.transform(val_df[\"Subject\"])\n",
        "test_df[\"Subject\"]  = le.transform(test_df[\"Subject\"])\n",
        "\n",
        "# In ra mapping giữa nhãn gốc và số\n",
        "for idx, class_name in enumerate(le.classes_):\n",
        "    print(f\"Class {idx} -> {class_name}\")"
      ]
    },
    {
      "cell_type": "markdown",
      "id": "0bc64e68",
      "metadata": {
        "id": "0bc64e68"
      },
      "source": [
        "### Khởi tạo ban đầu"
      ]
    },
    {
      "cell_type": "code",
      "execution_count": 35,
      "id": "855842c4",
      "metadata": {
        "colab": {
          "base_uri": "https://localhost:8080/"
        },
        "id": "855842c4",
        "outputId": "45bfd350-87bf-4d23-f68f-1bf774e1ff9d"
      },
      "outputs": [
        {
          "name": "stderr",
          "output_type": "stream",
          "text": [
            "Some weights of XLMRobertaForSequenceClassification were not initialized from the model checkpoint at htdung167/ViLegalBERT-v0 and are newly initialized: ['classifier.dense.bias', 'classifier.dense.weight', 'classifier.out_proj.bias', 'classifier.out_proj.weight']\n",
            "You should probably TRAIN this model on a down-stream task to be able to use it for predictions and inference.\n"
          ]
        },
        {
          "data": {
            "text/plain": [
              "XLMRobertaForSequenceClassification(\n",
              "  (roberta): XLMRobertaModel(\n",
              "    (embeddings): XLMRobertaEmbeddings(\n",
              "      (word_embeddings): Embedding(250002, 768, padding_idx=1)\n",
              "      (position_embeddings): Embedding(514, 768, padding_idx=1)\n",
              "      (token_type_embeddings): Embedding(1, 768)\n",
              "      (LayerNorm): LayerNorm((768,), eps=1e-05, elementwise_affine=True)\n",
              "      (dropout): Dropout(p=0.1, inplace=False)\n",
              "    )\n",
              "    (encoder): XLMRobertaEncoder(\n",
              "      (layer): ModuleList(\n",
              "        (0-11): 12 x XLMRobertaLayer(\n",
              "          (attention): XLMRobertaAttention(\n",
              "            (self): XLMRobertaSdpaSelfAttention(\n",
              "              (query): Linear(in_features=768, out_features=768, bias=True)\n",
              "              (key): Linear(in_features=768, out_features=768, bias=True)\n",
              "              (value): Linear(in_features=768, out_features=768, bias=True)\n",
              "              (dropout): Dropout(p=0.1, inplace=False)\n",
              "            )\n",
              "            (output): XLMRobertaSelfOutput(\n",
              "              (dense): Linear(in_features=768, out_features=768, bias=True)\n",
              "              (LayerNorm): LayerNorm((768,), eps=1e-05, elementwise_affine=True)\n",
              "              (dropout): Dropout(p=0.1, inplace=False)\n",
              "            )\n",
              "          )\n",
              "          (intermediate): XLMRobertaIntermediate(\n",
              "            (dense): Linear(in_features=768, out_features=3072, bias=True)\n",
              "            (intermediate_act_fn): GELUActivation()\n",
              "          )\n",
              "          (output): XLMRobertaOutput(\n",
              "            (dense): Linear(in_features=3072, out_features=768, bias=True)\n",
              "            (LayerNorm): LayerNorm((768,), eps=1e-05, elementwise_affine=True)\n",
              "            (dropout): Dropout(p=0.1, inplace=False)\n",
              "          )\n",
              "        )\n",
              "      )\n",
              "    )\n",
              "  )\n",
              "  (classifier): XLMRobertaClassificationHead(\n",
              "    (dense): Linear(in_features=768, out_features=768, bias=True)\n",
              "    (dropout): Dropout(p=0.1, inplace=False)\n",
              "    (out_proj): Linear(in_features=768, out_features=4, bias=True)\n",
              "  )\n",
              ")"
            ]
          },
          "execution_count": 35,
          "metadata": {},
          "output_type": "execute_result"
        }
      ],
      "source": [
        "\n",
        "# Khởi tạo tokenizer\n",
        "MODEL_NAME = \"htdung167/ViLegalBERT-v0\"\n",
        "tokenizer = AutoTokenizer.from_pretrained(MODEL_NAME)\n",
        "\n",
        "train_dataset = LawDataset(train_df, tokenizer)\n",
        "val_dataset   = LawDataset(val_df, tokenizer)\n",
        "test_dataset  = LawDataset(test_df, tokenizer)\n",
        "\n",
        "train_loader = DataLoader(train_dataset, batch_size=16, shuffle=True)\n",
        "val_loader   = DataLoader(val_dataset, batch_size=32)\n",
        "test_loader  = DataLoader(test_dataset, batch_size=32)\n",
        "\n",
        "num_labels = len(set(train_df[\"Subject\"]))  # số lớp\n",
        "\n",
        "model = AutoModelForSequenceClassification.from_pretrained(\n",
        "    MODEL_NAME,\n",
        "    num_labels=num_labels\n",
        ")\n",
        "\n",
        "model.to(device)\n"
      ]
    },
    {
      "cell_type": "markdown",
      "id": "2f6615b7",
      "metadata": {
        "id": "2f6615b7"
      },
      "source": [
        "### Hàm train + eval"
      ]
    },
    {
      "cell_type": "code",
      "execution_count": 36,
      "id": "02bb97d6",
      "metadata": {
        "id": "02bb97d6"
      },
      "outputs": [],
      "source": [
        "def train_epoch(model, dataloader, criterion, optimizer, lr_scheduler):\n",
        "    model.train()\n",
        "    total_loss, total_preds, total_labels = 0, [], []\n",
        "    for batch in tqdm(dataloader, desc=\"Training\"):\n",
        "        batch = {k: v.to(device) for k, v in batch.items()}\n",
        "        outputs = model(**batch)\n",
        "        loss = criterion(outputs.logits, batch[\"labels\"])\n",
        "        logits = outputs.logits\n",
        "\n",
        "        optimizer.zero_grad()\n",
        "        loss.backward()\n",
        "        optimizer.step()\n",
        "        lr_scheduler.step()\n",
        "\n",
        "        total_loss += loss.item()\n",
        "        preds = torch.argmax(logits, dim=-1).cpu().numpy()\n",
        "        labels = batch[\"labels\"].cpu().numpy()\n",
        "        total_preds.extend(preds)\n",
        "        total_labels.extend(labels)\n",
        "\n",
        "    acc = accuracy_score(total_labels, total_preds)\n",
        "    return total_loss / len(dataloader), acc\n",
        "\n",
        "\n",
        "def eval_epoch(model, dataloader, criterion):\n",
        "    model.eval()\n",
        "    total_loss, total_preds, total_labels = 0, [], []\n",
        "    with torch.no_grad():\n",
        "        for batch in tqdm(dataloader, desc=\"Evaluating\"):\n",
        "            batch = {k: v.to(device) for k, v in batch.items()}\n",
        "            outputs = model(**batch)\n",
        "            loss = criterion(outputs.logits, batch[\"labels\"])\n",
        "            logits = outputs.logits\n",
        "\n",
        "            total_loss += loss.item()\n",
        "            preds = torch.argmax(logits, dim=-1).cpu().numpy()\n",
        "            labels = batch[\"labels\"].cpu().numpy()\n",
        "            total_preds.extend(preds)\n",
        "            total_labels.extend(labels)\n",
        "\n",
        "    acc = accuracy_score(total_labels, total_preds)\n",
        "    return total_loss / len(dataloader), acc, total_preds, total_labels\n"
      ]
    },
    {
      "cell_type": "markdown",
      "id": "a891aa44",
      "metadata": {
        "id": "a891aa44"
      },
      "source": [
        "### Vòng lặp huấn luyện chính"
      ]
    },
    {
      "cell_type": "code",
      "execution_count": null,
      "id": "794badbe",
      "metadata": {
        "colab": {
          "base_uri": "https://localhost:8080/"
        },
        "id": "794badbe",
        "outputId": "1eeabbe9-27ef-4a61-fa48-105a9f7ffae8"
      },
      "outputs": [
        {
          "name": "stderr",
          "output_type": "stream",
          "text": [
            "Training: 100%|██████████| 85/85 [01:13<00:00,  1.15it/s]\n",
            "Evaluating: 100%|██████████| 10/10 [00:06<00:00,  1.58it/s]\n"
          ]
        },
        {
          "name": "stdout",
          "output_type": "stream",
          "text": [
            "Epoch 1/4\n",
            "Train loss: 1.0206 | Train acc: 0.5596\n",
            "Val loss:   0.3761 | Val acc:   0.9066\n",
            "✅ Val loss giảm (0.3761 → 0.3761). Lưu model ...\n"
          ]
        },
        {
          "name": "stderr",
          "output_type": "stream",
          "text": [
            "Training: 100%|██████████| 85/85 [01:14<00:00,  1.14it/s]\n",
            "Evaluating: 100%|██████████| 10/10 [00:06<00:00,  1.57it/s]\n"
          ]
        },
        {
          "name": "stdout",
          "output_type": "stream",
          "text": [
            "Epoch 2/4\n",
            "Train loss: 0.2280 | Train acc: 0.9423\n",
            "Val loss:   0.1185 | Val acc:   0.9689\n",
            "✅ Val loss giảm (0.1185 → 0.1185). Lưu model ...\n"
          ]
        },
        {
          "name": "stderr",
          "output_type": "stream",
          "text": [
            "Training: 100%|██████████| 85/85 [01:14<00:00,  1.13it/s]\n",
            "Evaluating: 100%|██████████| 10/10 [00:06<00:00,  1.60it/s]\n"
          ]
        },
        {
          "name": "stdout",
          "output_type": "stream",
          "text": [
            "Epoch 3/4\n",
            "Train loss: 0.1170 | Train acc: 0.9741\n",
            "Val loss:   0.0950 | Val acc:   0.9758\n",
            "✅ Val loss giảm (0.0950 → 0.0950). Lưu model ...\n"
          ]
        },
        {
          "name": "stderr",
          "output_type": "stream",
          "text": [
            "Training: 100%|██████████| 85/85 [01:14<00:00,  1.14it/s]\n",
            "Evaluating: 100%|██████████| 10/10 [00:05<00:00,  1.68it/s]\n"
          ]
        },
        {
          "name": "stdout",
          "output_type": "stream",
          "text": [
            "Epoch 4/4\n",
            "Train loss: 0.0748 | Train acc: 0.9830\n",
            "Val loss:   0.0833 | Val acc:   0.9758\n",
            "✅ Val loss giảm (0.0833 → 0.0833). Lưu model ...\n"
          ]
        }
      ],
      "source": [
        "EPOCHS = 4\n",
        "\n",
        "# Optimizer và scheduler\n",
        "optimizer = torch.optim.AdamW(model.parameters(), lr=5e-5)\n",
        "\n",
        "num_training_steps = len(train_loader) * 4\n",
        "lr_scheduler = get_scheduler(\n",
        "    \"linear\",\n",
        "    optimizer=optimizer,\n",
        "    num_warmup_steps=int(0.1 * num_training_steps),\n",
        "    num_training_steps=num_training_steps\n",
        ")\n",
        "\n",
        "# Khởi tạo EarlyStopping\n",
        "early_stopping = EarlyStopping(patience=2, delta=0.01, path=\"models/baseline_ViLegalBERT.pt\")\n",
        "\n",
        "for epoch in range(EPOCHS):\n",
        "    train_loss, train_acc = train_epoch(model, train_loader, criterion, optimizer, lr_scheduler)\n",
        "    val_loss, val_acc, _, _ = eval_epoch(model, val_loader, criterion)\n",
        "\n",
        "    print(f\"Epoch {epoch+1}/{EPOCHS}\")\n",
        "    print(f\"Train loss: {train_loss:.4f} | Train acc: {train_acc:.4f}\")\n",
        "    print(f\"Val loss:   {val_loss:.4f} | Val acc:   {val_acc:.4f}\")\n",
        "\n",
        "    early_stopping(val_loss, model)\n",
        "    if early_stopping.early_stop:\n",
        "        print(\"🛑 Early stopping\")\n",
        "        break\n"
      ]
    },
    {
      "cell_type": "markdown",
      "id": "7c3e0c3f",
      "metadata": {},
      "source": [
        "### Đánh giá mô hình"
      ]
    },
    {
      "cell_type": "code",
      "execution_count": 37,
      "id": "3b603a7e",
      "metadata": {
        "colab": {
          "base_uri": "https://localhost:8080/",
          "height": 825
        },
        "id": "3b603a7e",
        "outputId": "066a2ae2-5f68-4bce-d771-c718ee518bfb"
      },
      "outputs": [
        {
          "name": "stdout",
          "output_type": "stream",
          "text": [
            "Thời gian trung bình mỗi suy luận: 28.23 ms\n",
            "Tốc độ ~ 35.42 câu/giây\n",
            "📊 Test Loss: 0.1062\n",
            "✅ Test Accuracy: 0.9690\n",
            "\n",
            "Classification Report:\n",
            "                    precision    recall  f1-score   support\n",
            "\n",
            "Không có thông tin     1.0000    1.0000    1.0000        37\n",
            "                NN     0.9559    0.9701    0.9630        67\n",
            "      VN_bé_hơn_14     0.9683    0.9683    0.9683        63\n",
            "     VN_lớn_hơn_14     0.9672    0.9593    0.9633       123\n",
            "\n",
            "          accuracy                         0.9690       290\n",
            "         macro avg     0.9728    0.9744    0.9736       290\n",
            "      weighted avg     0.9690    0.9690    0.9690       290\n",
            "\n"
          ]
        },
        {
          "data": {
            "image/png": "[encoded data removed]",
            "text/plain": [
              "<Figure size 700x600 with 2 Axes>"
            ]
          },
          "metadata": {},
          "output_type": "display_data"
        }
      ],
      "source": [
        "from tracemalloc import start\n",
        "\n",
        "\n",
        "def evaluate_model(model, dataloader, criterion, device, label_names=None):\n",
        "    model.eval()\n",
        "    total_loss, total_correct, total = 0, 0, 0\n",
        "\n",
        "    all_preds = []\n",
        "    all_labels = []\n",
        "\n",
        "    start = time.time()\n",
        "\n",
        "    with torch.no_grad():\n",
        "        for batch in dataloader:\n",
        "            input_ids = batch['input_ids'].to(device)\n",
        "            attention_mask = batch['attention_mask'].to(device)\n",
        "            targets = batch['labels'].to(device)\n",
        "\n",
        "            outputs = model(input_ids=input_ids, attention_mask=attention_mask)\n",
        "            logits = outputs.logits\n",
        "            loss = criterion(logits, targets)\n",
        "\n",
        "            total_loss += loss.item()\n",
        "\n",
        "            predictions = torch.argmax(logits, dim=-1)\n",
        "            correct = (predictions == targets).sum().item()\n",
        "            total_correct += correct\n",
        "            total += targets.size(0)\n",
        "\n",
        "            all_preds.extend(predictions.cpu().numpy())\n",
        "            all_labels.extend(targets.cpu().numpy())\n",
        "\n",
        "    end = time.time()\n",
        "    avg_time = (end - start) / 100\n",
        "    print(f\"Thời gian trung bình mỗi suy luận: {avg_time*1000:.2f} ms\")\n",
        "    print(f\"Tốc độ ~ {1/avg_time:.2f} câu/giây\")\n",
        "    \n",
        "    avg_loss = total_loss / len(dataloader)\n",
        "    acc = total_correct / total\n",
        "\n",
        "    print(f\"📊 Test Loss: {avg_loss:.4f}\")\n",
        "    print(f\"✅ Test Accuracy: {acc:.4f}\")\n",
        "    print(\"\\nClassification Report:\")\n",
        "    print(classification_report(all_labels, all_preds, target_names=label_names, digits=4))\n",
        "\n",
        "    # --- Confusion Matrix ---\n",
        "    cm = confusion_matrix(all_labels, all_preds)\n",
        "\n",
        "    plt.figure(figsize=(7, 6))\n",
        "    sns.heatmap(cm, annot=True, fmt=\"d\", cmap=\"Blues\",\n",
        "                xticklabels=label_names, yticklabels=label_names)\n",
        "    plt.xlabel(\"Predicted Labels\")\n",
        "    plt.ylabel(\"True Labels\")\n",
        "    plt.title(\"Confusion Matrix\")\n",
        "    plt.show()\n",
        "\n",
        "    return avg_loss, acc, all_preds, all_labels\n",
        "\n",
        "# Load model tốt nhất\n",
        "model.load_state_dict(torch.load(\"models/baseline_ViLegalBERT.pt\"))\n",
        "model\n",
        "\n",
        "# Lấy tên nhãn từ LabelEncoder\n",
        "label_names = list(le.classes_)\n",
        "\n",
        "# Đánh giá mô hình trên test set\n",
        "test_loss, test_acc, test_preds, test_labels = evaluate_model(\n",
        "    model=model,\n",
        "    dataloader=test_loader,\n",
        "    device=device,\n",
        "    criterion=nn.CrossEntropyLoss(),\n",
        "    label_names=label_names\n",
        ")\n"
      ]
    },
    {
      "cell_type": "code",
      "execution_count": 39,
      "id": "5aa1ae8d",
      "metadata": {},
      "outputs": [
        {
          "name": "stdout",
          "output_type": "stream",
          "text": [
            "Tổng số tham số: 278046724\n"
          ]
        }
      ],
      "source": [
        "params = sum(p.numel() for p in model.parameters())\n",
        "print(f\"Tổng số tham số: {params}\")"
      ]
    },
    {
      "cell_type": "code",
      "execution_count": 38,
      "id": "e63c2295",
      "metadata": {
        "colab": {
          "base_uri": "https://localhost:8080/",
          "height": 231
        },
        "id": "e63c2295",
        "outputId": "b9c94c03-cf9d-486c-fdfc-30ebf06dbbfc"
      },
      "outputs": [
        {
          "name": "stdout",
          "output_type": "stream",
          "text": [
            "Câu hỏi: Việc thay đổi nơi ở của một người có ảnh hưởng như thế nào đến việc đăng ký cư trú của họ, và người này phải làm gì để đảm bảo tuân thủ đúng pháp luật?\n",
            "Dự đoán nhãn: VN_lớn_hơn_14\n"
          ]
        }
      ],
      "source": [
        "# Kiểm tra mô hình với câu mới\n",
        "def predict(text, model, tokenizer):\n",
        "    model.eval()\n",
        "    inputs = tokenizer(text, return_tensors=\"pt\", truncation=True, padding=\"max_length\", max_length=256)\n",
        "    inputs = {k: v.to(device) for k, v in inputs.items()}\n",
        "    with torch.no_grad():\n",
        "        outputs = model(**inputs)\n",
        "        logits = outputs.logits\n",
        "        preds = torch.argmax(logits, dim=-1).cpu().numpy()\n",
        "    return le.inverse_transform(preds)[0]\n",
        "\n",
        "text = \"Việc thay đổi nơi ở của một người có ảnh hưởng như thế nào đến việc đăng ký cư trú của họ, và người này phải làm gì để đảm bảo tuân thủ đúng pháp luật?\"\n",
        "print(\"Câu hỏi:\", text)\n",
        "print(\"Dự đoán nhãn:\", predict(text, model, tokenizer))"
      ]
    },
    {
      "cell_type": "markdown",
      "id": "a8dab39c",
      "metadata": {
        "id": "a8dab39c"
      },
      "source": [
        "## 3.2 ViLegalBERT + CNN + Attention"
      ]
    },
    {
      "cell_type": "markdown",
      "id": "e002cd9a",
      "metadata": {},
      "source": [
        "### ViLegalBERT + CNN + Attention"
      ]
    },
    {
      "cell_type": "code",
      "execution_count": 40,
      "id": "cbeb798b",
      "metadata": {},
      "outputs": [],
      "source": [
        "class ViLegalCNN_Attn(nn.Module):\n",
        "    def __init__(self, model_name, num_labels, dropout=0.25):\n",
        "        super().__init__()\n",
        "        self.bert = AutoModel.from_pretrained(model_name)\n",
        "        self.dropout = nn.Dropout(dropout)\n",
        "        hidden_size = self.bert.config.hidden_size  # 768\n",
        "\n",
        "        # CNN head (giảm số filter để tránh overfitting)\n",
        "        self.convs = nn.ModuleList([\n",
        "            nn.Conv1d(in_channels=hidden_size, out_channels=64, kernel_size=k)\n",
        "            for k in [2, 3, 4]\n",
        "        ])\n",
        "\n",
        "        # Attention head\n",
        "        self.attn = nn.MultiheadAttention(embed_dim=hidden_size, num_heads=4, batch_first=True)\n",
        "\n",
        "        # Fully connected layer\n",
        "        self.fc = nn.Linear(64 * 3 + hidden_size, num_labels)\n",
        "\n",
        "    def forward(self, input_ids, attention_mask):\n",
        "        outputs = self.bert(input_ids=input_ids, attention_mask=attention_mask)\n",
        "        last_hidden = outputs.last_hidden_state  # [B, L, H]\n",
        "\n",
        "        # CNN path\n",
        "        x_cnn = last_hidden.transpose(1, 2)  # [B, H, L]\n",
        "        conv_outs = []\n",
        "\n",
        "        for conv in self.convs:\n",
        "            conv_x = torch.relu(conv(x_cnn))       # [B, 64, L - k + 1]\n",
        "            pooled = torch.amax(conv_x, dim=2)     # [B, 64]\n",
        "            conv_outs.append(pooled)\n",
        "\n",
        "        cnn_feat = torch.cat(conv_outs, dim=1)     # [B, 64*3]\n",
        "\n",
        "\n",
        "        # Attention path\n",
        "        attn_out, _ = self.attn(last_hidden, last_hidden, last_hidden)\n",
        "        attn_feat = attn_out.mean(dim=1)  # [B, H]\n",
        "\n",
        "        # Combine features\n",
        "        feat = torch.cat([cnn_feat, attn_feat], dim=1)\n",
        "        out = self.fc(self.dropout(feat))\n",
        "        return out\n"
      ]
    },
    {
      "cell_type": "markdown",
      "id": "c3f72952",
      "metadata": {},
      "source": [
        "### Chuẩn bị dữ liệu + class-weight"
      ]
    },
    {
      "cell_type": "code",
      "execution_count": 41,
      "id": "86aca36d",
      "metadata": {},
      "outputs": [
        {
          "name": "stdout",
          "output_type": "stream",
          "text": [
            "Class weights: tensor([1.9411, 1.0825, 1.1488, 0.5915], device='cuda:0')\n"
          ]
        }
      ],
      "source": [
        "MODEL_NAME = \"htdung167/ViLegalBERT-v0\"\n",
        "tokenizer = AutoTokenizer.from_pretrained(MODEL_NAME)\n",
        "\n",
        "df = pd.read_excel(\"augmented_data.xlsx\")\n",
        "\n",
        "train_df, tmp_df = train_test_split(df, test_size=0.3, random_state=42, stratify=df[\"Subject\"])\n",
        "val_df, test_df = train_test_split(tmp_df, test_size=0.5, random_state=42, stratify=tmp_df[\"Subject\"])\n",
        "\n",
        "le = LabelEncoder()\n",
        "train_df[\"Subject\"] = le.fit_transform(train_df[\"Subject\"])\n",
        "val_df[\"Subject\"] = le.fit_transform(val_df[\"Subject\"])\n",
        "test_df[\"Subject\"]  = le.transform(test_df[\"Subject\"])\n",
        "\n",
        "train_dataset = LawDataset(train_df, tokenizer)\n",
        "val_dataset = LawDataset(val_df, tokenizer)\n",
        "test_dataset = LawDataset(test_df, tokenizer)\n",
        "\n",
        "train_loader = DataLoader(train_dataset, batch_size=16, shuffle=True)\n",
        "val_loader = DataLoader(val_dataset, batch_size=32)\n",
        "test_loader = DataLoader(test_dataset, batch_size=32)\n",
        "\n",
        "num_labels = len(set(train_df[\"Subject\"]))  # số lớp\n",
        "\n",
        "# Tính class-weight\n",
        "labels_np = np.array(train_df[\"Subject\"])\n",
        "class_weights = compute_class_weight(class_weight='balanced',\n",
        "                                     classes=np.unique(labels_np),\n",
        "                                     y=labels_np)\n",
        "class_weights = torch.tensor(class_weights, dtype=torch.float).to(device)\n",
        "print(\"Class weights:\", class_weights)"
      ]
    },
    {
      "cell_type": "markdown",
      "id": "02bf5952",
      "metadata": {},
      "source": [
        "### Khai báo mô hình"
      ]
    },
    {
      "cell_type": "code",
      "execution_count": 42,
      "id": "6c0baa19",
      "metadata": {},
      "outputs": [
        {
          "name": "stderr",
          "output_type": "stream",
          "text": [
            "Some weights of XLMRobertaModel were not initialized from the model checkpoint at htdung167/ViLegalBERT-v0 and are newly initialized: ['pooler.dense.bias', 'pooler.dense.weight']\n",
            "You should probably TRAIN this model on a down-stream task to be able to use it for predictions and inference.\n"
          ]
        }
      ],
      "source": [
        "model = ViLegalCNN_Attn(MODEL_NAME, num_labels).to(device)"
      ]
    },
    {
      "cell_type": "code",
      "execution_count": 43,
      "id": "2f9f506d",
      "metadata": {},
      "outputs": [],
      "source": [
        "for name, param in model.named_parameters():\n",
        "    if 'cnn' in name or 'attn' in name:\n",
        "        param.requires_grad = True"
      ]
    },
    {
      "cell_type": "code",
      "execution_count": 44,
      "id": "8c32dfd0",
      "metadata": {},
      "outputs": [
        {
          "name": "stdout",
          "output_type": "stream",
          "text": [
            "bert.embeddings.word_embeddings.weight\n",
            "bert.embeddings.position_embeddings.weight\n",
            "bert.embeddings.token_type_embeddings.weight\n",
            "bert.embeddings.LayerNorm.weight\n",
            "bert.embeddings.LayerNorm.bias\n",
            "bert.encoder.layer.0.attention.self.query.weight\n",
            "bert.encoder.layer.0.attention.self.query.bias\n",
            "bert.encoder.layer.0.attention.self.key.weight\n",
            "bert.encoder.layer.0.attention.self.key.bias\n",
            "bert.encoder.layer.0.attention.self.value.weight\n",
            "bert.encoder.layer.0.attention.self.value.bias\n",
            "bert.encoder.layer.0.attention.output.dense.weight\n",
            "bert.encoder.layer.0.attention.output.dense.bias\n",
            "bert.encoder.layer.0.attention.output.LayerNorm.weight\n",
            "bert.encoder.layer.0.attention.output.LayerNorm.bias\n",
            "bert.encoder.layer.0.intermediate.dense.weight\n",
            "bert.encoder.layer.0.intermediate.dense.bias\n",
            "bert.encoder.layer.0.output.dense.weight\n",
            "bert.encoder.layer.0.output.dense.bias\n",
            "bert.encoder.layer.0.output.LayerNorm.weight\n",
            "bert.encoder.layer.0.output.LayerNorm.bias\n",
            "bert.encoder.layer.1.attention.self.query.weight\n",
            "bert.encoder.layer.1.attention.self.query.bias\n",
            "bert.encoder.layer.1.attention.self.key.weight\n",
            "bert.encoder.layer.1.attention.self.key.bias\n",
            "bert.encoder.layer.1.attention.self.value.weight\n",
            "bert.encoder.layer.1.attention.self.value.bias\n",
            "bert.encoder.layer.1.attention.output.dense.weight\n",
            "bert.encoder.layer.1.attention.output.dense.bias\n",
            "bert.encoder.layer.1.attention.output.LayerNorm.weight\n",
            "bert.encoder.layer.1.attention.output.LayerNorm.bias\n",
            "bert.encoder.layer.1.intermediate.dense.weight\n",
            "bert.encoder.layer.1.intermediate.dense.bias\n",
            "bert.encoder.layer.1.output.dense.weight\n",
            "bert.encoder.layer.1.output.dense.bias\n",
            "bert.encoder.layer.1.output.LayerNorm.weight\n",
            "bert.encoder.layer.1.output.LayerNorm.bias\n",
            "bert.encoder.layer.2.attention.self.query.weight\n",
            "bert.encoder.layer.2.attention.self.query.bias\n",
            "bert.encoder.layer.2.attention.self.key.weight\n",
            "bert.encoder.layer.2.attention.self.key.bias\n",
            "bert.encoder.layer.2.attention.self.value.weight\n",
            "bert.encoder.layer.2.attention.self.value.bias\n",
            "bert.encoder.layer.2.attention.output.dense.weight\n",
            "bert.encoder.layer.2.attention.output.dense.bias\n",
            "bert.encoder.layer.2.attention.output.LayerNorm.weight\n",
            "bert.encoder.layer.2.attention.output.LayerNorm.bias\n",
            "bert.encoder.layer.2.intermediate.dense.weight\n",
            "bert.encoder.layer.2.intermediate.dense.bias\n",
            "bert.encoder.layer.2.output.dense.weight\n",
            "bert.encoder.layer.2.output.dense.bias\n",
            "bert.encoder.layer.2.output.LayerNorm.weight\n",
            "bert.encoder.layer.2.output.LayerNorm.bias\n",
            "bert.encoder.layer.3.attention.self.query.weight\n",
            "bert.encoder.layer.3.attention.self.query.bias\n",
            "bert.encoder.layer.3.attention.self.key.weight\n",
            "bert.encoder.layer.3.attention.self.key.bias\n",
            "bert.encoder.layer.3.attention.self.value.weight\n",
            "bert.encoder.layer.3.attention.self.value.bias\n",
            "bert.encoder.layer.3.attention.output.dense.weight\n",
            "bert.encoder.layer.3.attention.output.dense.bias\n",
            "bert.encoder.layer.3.attention.output.LayerNorm.weight\n",
            "bert.encoder.layer.3.attention.output.LayerNorm.bias\n",
            "bert.encoder.layer.3.intermediate.dense.weight\n",
            "bert.encoder.layer.3.intermediate.dense.bias\n",
            "bert.encoder.layer.3.output.dense.weight\n",
            "bert.encoder.layer.3.output.dense.bias\n",
            "bert.encoder.layer.3.output.LayerNorm.weight\n",
            "bert.encoder.layer.3.output.LayerNorm.bias\n",
            "bert.encoder.layer.4.attention.self.query.weight\n",
            "bert.encoder.layer.4.attention.self.query.bias\n",
            "bert.encoder.layer.4.attention.self.key.weight\n",
            "bert.encoder.layer.4.attention.self.key.bias\n",
            "bert.encoder.layer.4.attention.self.value.weight\n",
            "bert.encoder.layer.4.attention.self.value.bias\n",
            "bert.encoder.layer.4.attention.output.dense.weight\n",
            "bert.encoder.layer.4.attention.output.dense.bias\n",
            "bert.encoder.layer.4.attention.output.LayerNorm.weight\n",
            "bert.encoder.layer.4.attention.output.LayerNorm.bias\n",
            "bert.encoder.layer.4.intermediate.dense.weight\n",
            "bert.encoder.layer.4.intermediate.dense.bias\n",
            "bert.encoder.layer.4.output.dense.weight\n",
            "bert.encoder.layer.4.output.dense.bias\n",
            "bert.encoder.layer.4.output.LayerNorm.weight\n",
            "bert.encoder.layer.4.output.LayerNorm.bias\n",
            "bert.encoder.layer.5.attention.self.query.weight\n",
            "bert.encoder.layer.5.attention.self.query.bias\n",
            "bert.encoder.layer.5.attention.self.key.weight\n",
            "bert.encoder.layer.5.attention.self.key.bias\n",
            "bert.encoder.layer.5.attention.self.value.weight\n",
            "bert.encoder.layer.5.attention.self.value.bias\n",
            "bert.encoder.layer.5.attention.output.dense.weight\n",
            "bert.encoder.layer.5.attention.output.dense.bias\n",
            "bert.encoder.layer.5.attention.output.LayerNorm.weight\n",
            "bert.encoder.layer.5.attention.output.LayerNorm.bias\n",
            "bert.encoder.layer.5.intermediate.dense.weight\n",
            "bert.encoder.layer.5.intermediate.dense.bias\n",
            "bert.encoder.layer.5.output.dense.weight\n",
            "bert.encoder.layer.5.output.dense.bias\n",
            "bert.encoder.layer.5.output.LayerNorm.weight\n",
            "bert.encoder.layer.5.output.LayerNorm.bias\n",
            "bert.encoder.layer.6.attention.self.query.weight\n",
            "bert.encoder.layer.6.attention.self.query.bias\n",
            "bert.encoder.layer.6.attention.self.key.weight\n",
            "bert.encoder.layer.6.attention.self.key.bias\n",
            "bert.encoder.layer.6.attention.self.value.weight\n",
            "bert.encoder.layer.6.attention.self.value.bias\n",
            "bert.encoder.layer.6.attention.output.dense.weight\n",
            "bert.encoder.layer.6.attention.output.dense.bias\n",
            "bert.encoder.layer.6.attention.output.LayerNorm.weight\n",
            "bert.encoder.layer.6.attention.output.LayerNorm.bias\n",
            "bert.encoder.layer.6.intermediate.dense.weight\n",
            "bert.encoder.layer.6.intermediate.dense.bias\n",
            "bert.encoder.layer.6.output.dense.weight\n",
            "bert.encoder.layer.6.output.dense.bias\n",
            "bert.encoder.layer.6.output.LayerNorm.weight\n",
            "bert.encoder.layer.6.output.LayerNorm.bias\n",
            "bert.encoder.layer.7.attention.self.query.weight\n",
            "bert.encoder.layer.7.attention.self.query.bias\n",
            "bert.encoder.layer.7.attention.self.key.weight\n",
            "bert.encoder.layer.7.attention.self.key.bias\n",
            "bert.encoder.layer.7.attention.self.value.weight\n",
            "bert.encoder.layer.7.attention.self.value.bias\n",
            "bert.encoder.layer.7.attention.output.dense.weight\n",
            "bert.encoder.layer.7.attention.output.dense.bias\n",
            "bert.encoder.layer.7.attention.output.LayerNorm.weight\n",
            "bert.encoder.layer.7.attention.output.LayerNorm.bias\n",
            "bert.encoder.layer.7.intermediate.dense.weight\n",
            "bert.encoder.layer.7.intermediate.dense.bias\n",
            "bert.encoder.layer.7.output.dense.weight\n",
            "bert.encoder.layer.7.output.dense.bias\n",
            "bert.encoder.layer.7.output.LayerNorm.weight\n",
            "bert.encoder.layer.7.output.LayerNorm.bias\n",
            "bert.encoder.layer.8.attention.self.query.weight\n",
            "bert.encoder.layer.8.attention.self.query.bias\n",
            "bert.encoder.layer.8.attention.self.key.weight\n",
            "bert.encoder.layer.8.attention.self.key.bias\n",
            "bert.encoder.layer.8.attention.self.value.weight\n",
            "bert.encoder.layer.8.attention.self.value.bias\n",
            "bert.encoder.layer.8.attention.output.dense.weight\n",
            "bert.encoder.layer.8.attention.output.dense.bias\n",
            "bert.encoder.layer.8.attention.output.LayerNorm.weight\n",
            "bert.encoder.layer.8.attention.output.LayerNorm.bias\n",
            "bert.encoder.layer.8.intermediate.dense.weight\n",
            "bert.encoder.layer.8.intermediate.dense.bias\n",
            "bert.encoder.layer.8.output.dense.weight\n",
            "bert.encoder.layer.8.output.dense.bias\n",
            "bert.encoder.layer.8.output.LayerNorm.weight\n",
            "bert.encoder.layer.8.output.LayerNorm.bias\n",
            "bert.encoder.layer.9.attention.self.query.weight\n",
            "bert.encoder.layer.9.attention.self.query.bias\n",
            "bert.encoder.layer.9.attention.self.key.weight\n",
            "bert.encoder.layer.9.attention.self.key.bias\n",
            "bert.encoder.layer.9.attention.self.value.weight\n",
            "bert.encoder.layer.9.attention.self.value.bias\n",
            "bert.encoder.layer.9.attention.output.dense.weight\n",
            "bert.encoder.layer.9.attention.output.dense.bias\n",
            "bert.encoder.layer.9.attention.output.LayerNorm.weight\n",
            "bert.encoder.layer.9.attention.output.LayerNorm.bias\n",
            "bert.encoder.layer.9.intermediate.dense.weight\n",
            "bert.encoder.layer.9.intermediate.dense.bias\n",
            "bert.encoder.layer.9.output.dense.weight\n",
            "bert.encoder.layer.9.output.dense.bias\n",
            "bert.encoder.layer.9.output.LayerNorm.weight\n",
            "bert.encoder.layer.9.output.LayerNorm.bias\n",
            "bert.encoder.layer.10.attention.self.query.weight\n",
            "bert.encoder.layer.10.attention.self.query.bias\n",
            "bert.encoder.layer.10.attention.self.key.weight\n",
            "bert.encoder.layer.10.attention.self.key.bias\n",
            "bert.encoder.layer.10.attention.self.value.weight\n",
            "bert.encoder.layer.10.attention.self.value.bias\n",
            "bert.encoder.layer.10.attention.output.dense.weight\n",
            "bert.encoder.layer.10.attention.output.dense.bias\n",
            "bert.encoder.layer.10.attention.output.LayerNorm.weight\n",
            "bert.encoder.layer.10.attention.output.LayerNorm.bias\n",
            "bert.encoder.layer.10.intermediate.dense.weight\n",
            "bert.encoder.layer.10.intermediate.dense.bias\n",
            "bert.encoder.layer.10.output.dense.weight\n",
            "bert.encoder.layer.10.output.dense.bias\n",
            "bert.encoder.layer.10.output.LayerNorm.weight\n",
            "bert.encoder.layer.10.output.LayerNorm.bias\n",
            "bert.encoder.layer.11.attention.self.query.weight\n",
            "bert.encoder.layer.11.attention.self.query.bias\n",
            "bert.encoder.layer.11.attention.self.key.weight\n",
            "bert.encoder.layer.11.attention.self.key.bias\n",
            "bert.encoder.layer.11.attention.self.value.weight\n",
            "bert.encoder.layer.11.attention.self.value.bias\n",
            "bert.encoder.layer.11.attention.output.dense.weight\n",
            "bert.encoder.layer.11.attention.output.dense.bias\n",
            "bert.encoder.layer.11.attention.output.LayerNorm.weight\n",
            "bert.encoder.layer.11.attention.output.LayerNorm.bias\n",
            "bert.encoder.layer.11.intermediate.dense.weight\n",
            "bert.encoder.layer.11.intermediate.dense.bias\n",
            "bert.encoder.layer.11.output.dense.weight\n",
            "bert.encoder.layer.11.output.dense.bias\n",
            "bert.encoder.layer.11.output.LayerNorm.weight\n",
            "bert.encoder.layer.11.output.LayerNorm.bias\n",
            "bert.pooler.dense.weight\n",
            "bert.pooler.dense.bias\n",
            "convs.0.weight\n",
            "convs.0.bias\n",
            "convs.1.weight\n",
            "convs.1.bias\n",
            "convs.2.weight\n",
            "convs.2.bias\n",
            "attn.in_proj_weight\n",
            "attn.in_proj_bias\n",
            "attn.out_proj.weight\n",
            "attn.out_proj.bias\n",
            "fc.weight\n",
            "fc.bias\n"
          ]
        }
      ],
      "source": [
        "for name, param in model.named_parameters():\n",
        "    if param.requires_grad:\n",
        "        print(name)\n"
      ]
    },
    {
      "cell_type": "markdown",
      "id": "98c8ef6a",
      "metadata": {},
      "source": [
        "### Hàm train / eval"
      ]
    },
    {
      "cell_type": "code",
      "execution_count": 45,
      "id": "6c8f4286",
      "metadata": {},
      "outputs": [],
      "source": [
        "def train_epoch(model, loader, criterion, optimizer, scheduler):\n",
        "    model.train()\n",
        "    total_loss, total_preds = 0, []\n",
        "\n",
        "    for batch in tqdm(loader, desc=\"Training\"):\n",
        "        optimizer.zero_grad()\n",
        "        input_ids = batch['input_ids'].to(device)\n",
        "        attention_mask = batch['attention_mask'].to(device)\n",
        "        labels = batch['labels'].to(device)\n",
        "\n",
        "        outputs = model(input_ids, attention_mask)\n",
        "        loss = criterion(outputs, labels)\n",
        "        loss.backward()\n",
        "\n",
        "        for name, param in model.named_parameters():\n",
        "            if 'cnn' in name:\n",
        "                print(name, param.grad is not None)\n",
        "\n",
        "        torch.nn.utils.clip_grad_norm_(model.parameters(), 1.0)\n",
        "        optimizer.step()\n",
        "        scheduler.step()\n",
        "\n",
        "        total_loss += loss.item()\n",
        "    return total_loss / len(loader)\n",
        "\n",
        "\n",
        "def eval_epoch(model, loader, criterion):\n",
        "    model.eval()\n",
        "    preds, labels_all = [], []\n",
        "    total_loss = 0\n",
        "\n",
        "    with torch.no_grad():\n",
        "        for batch in tqdm(loader, desc=\"Evaluating\"):\n",
        "            input_ids = batch['input_ids'].to(device)\n",
        "            attention_mask = batch['attention_mask'].to(device)\n",
        "            labels = batch['labels'].to(device)\n",
        "\n",
        "            outputs = model(input_ids, attention_mask)\n",
        "            loss = criterion(outputs, labels)\n",
        "            total_loss += loss.item()\n",
        "\n",
        "            preds += torch.argmax(outputs, dim=1).cpu().tolist()\n",
        "            labels_all += labels.cpu().tolist()\n",
        "\n",
        "    f1 = f1_score(labels_all, preds, average='macro')\n",
        "    return total_loss / len(loader), f1, preds, labels_all\n"
      ]
    },
    {
      "cell_type": "markdown",
      "id": "76b62ca6",
      "metadata": {},
      "source": [
        "### Huấn luyện chính"
      ]
    },
    {
      "cell_type": "code",
      "execution_count": null,
      "id": "9a1c50c8",
      "metadata": {},
      "outputs": [
        {
          "name": "stdout",
          "output_type": "stream",
          "text": [
            "\n",
            "===== Epoch 1/4 =====\n"
          ]
        },
        {
          "name": "stderr",
          "output_type": "stream",
          "text": [
            "Training: 100%|██████████| 85/85 [01:26<00:00,  1.02s/it]\n",
            "Evaluating: 100%|██████████| 10/10 [00:06<00:00,  1.58it/s]\n"
          ]
        },
        {
          "name": "stdout",
          "output_type": "stream",
          "text": [
            "Train loss: 1.0493 | Val loss: 0.3988 | Val F1: 0.9087\n",
            "✅ Val loss giảm (0.3988 → 0.3988). Lưu model ...\n",
            "\n",
            "===== Epoch 2/4 =====\n"
          ]
        },
        {
          "name": "stderr",
          "output_type": "stream",
          "text": [
            "Training: 100%|██████████| 85/85 [01:24<00:00,  1.00it/s]\n",
            "Evaluating: 100%|██████████| 10/10 [00:06<00:00,  1.53it/s]\n"
          ]
        },
        {
          "name": "stdout",
          "output_type": "stream",
          "text": [
            "Train loss: 0.2085 | Val loss: 0.1204 | Val F1: 0.9623\n",
            "✅ Val loss giảm (0.1204 → 0.1204). Lưu model ...\n",
            "\n",
            "===== Epoch 3/4 =====\n"
          ]
        },
        {
          "name": "stderr",
          "output_type": "stream",
          "text": [
            "Training: 100%|██████████| 85/85 [01:30<00:00,  1.06s/it]\n",
            "Evaluating: 100%|██████████| 10/10 [00:06<00:00,  1.60it/s]\n"
          ]
        },
        {
          "name": "stdout",
          "output_type": "stream",
          "text": [
            "Train loss: 0.1033 | Val loss: 0.0696 | Val F1: 0.9783\n",
            "✅ Val loss giảm (0.0696 → 0.0696). Lưu model ...\n",
            "\n",
            "===== Epoch 4/4 =====\n"
          ]
        },
        {
          "name": "stderr",
          "output_type": "stream",
          "text": [
            "Training: 100%|██████████| 85/85 [01:26<00:00,  1.01s/it]\n",
            "Evaluating: 100%|██████████| 10/10 [00:06<00:00,  1.56it/s]"
          ]
        },
        {
          "name": "stdout",
          "output_type": "stream",
          "text": [
            "Train loss: 0.0638 | Val loss: 0.0757 | Val F1: 0.9783\n",
            "⏳ EarlyStopping counter: 1 / 2\n"
          ]
        },
        {
          "name": "stderr",
          "output_type": "stream",
          "text": [
            "\n"
          ]
        }
      ],
      "source": [
        "criterion = nn.CrossEntropyLoss(weight=class_weights)\n",
        "optimizer = AdamW(model.parameters(), lr=5e-5, weight_decay=0.01)\n",
        "\n",
        "num_epochs = 4\n",
        "total_steps = len(train_loader) * num_epochs\n",
        "scheduler = get_linear_schedule_with_warmup(optimizer, \n",
        "                                            num_warmup_steps=int(0.1 * total_steps),\n",
        "                                            num_training_steps=total_steps)\n",
        "\n",
        "early_stopping = EarlyStopping(patience=2, delta=0.01, path=\"models/baseline_vilegalbert_cnn_attn.pt\")\n",
        "\n",
        "best_f1 = 0\n",
        "for epoch in range(num_epochs):\n",
        "    print(f\"\\n===== Epoch {epoch+1}/{num_epochs} =====\")\n",
        "    train_loss = train_epoch(model, train_loader, criterion, optimizer, scheduler)\n",
        "    val_loss, val_f1, _, _ = eval_epoch(model, val_loader, criterion)\n",
        "\n",
        "    print(f\"Train loss: {train_loss:.4f} | Val loss: {val_loss:.4f} | Val F1: {val_f1:.4f}\")\n",
        "\n",
        "    early_stopping(val_loss, model)\n",
        "    if early_stopping.early_stop:\n",
        "        print(\"🛑 Early stopping\")\n",
        "        break\n"
      ]
    },
    {
      "cell_type": "markdown",
      "id": "48c7720b",
      "metadata": {},
      "source": [
        "### Đánh giá mô hình"
      ]
    },
    {
      "cell_type": "code",
      "execution_count": 46,
      "id": "566d8873",
      "metadata": {},
      "outputs": [
        {
          "name": "stdout",
          "output_type": "stream",
          "text": [
            "bert.embeddings.word_embeddings.weight\n",
            "bert.embeddings.position_embeddings.weight\n",
            "bert.embeddings.token_type_embeddings.weight\n",
            "bert.embeddings.LayerNorm.weight\n",
            "bert.embeddings.LayerNorm.bias\n",
            "bert.encoder.layer.0.attention.self.query.weight\n",
            "bert.encoder.layer.0.attention.self.query.bias\n",
            "bert.encoder.layer.0.attention.self.key.weight\n",
            "bert.encoder.layer.0.attention.self.key.bias\n",
            "bert.encoder.layer.0.attention.self.value.weight\n",
            "bert.encoder.layer.0.attention.self.value.bias\n",
            "bert.encoder.layer.0.attention.output.dense.weight\n",
            "bert.encoder.layer.0.attention.output.dense.bias\n",
            "bert.encoder.layer.0.attention.output.LayerNorm.weight\n",
            "bert.encoder.layer.0.attention.output.LayerNorm.bias\n",
            "bert.encoder.layer.0.intermediate.dense.weight\n",
            "bert.encoder.layer.0.intermediate.dense.bias\n",
            "bert.encoder.layer.0.output.dense.weight\n",
            "bert.encoder.layer.0.output.dense.bias\n",
            "bert.encoder.layer.0.output.LayerNorm.weight\n",
            "bert.encoder.layer.0.output.LayerNorm.bias\n",
            "bert.encoder.layer.1.attention.self.query.weight\n",
            "bert.encoder.layer.1.attention.self.query.bias\n",
            "bert.encoder.layer.1.attention.self.key.weight\n",
            "bert.encoder.layer.1.attention.self.key.bias\n",
            "bert.encoder.layer.1.attention.self.value.weight\n",
            "bert.encoder.layer.1.attention.self.value.bias\n",
            "bert.encoder.layer.1.attention.output.dense.weight\n",
            "bert.encoder.layer.1.attention.output.dense.bias\n",
            "bert.encoder.layer.1.attention.output.LayerNorm.weight\n",
            "bert.encoder.layer.1.attention.output.LayerNorm.bias\n",
            "bert.encoder.layer.1.intermediate.dense.weight\n",
            "bert.encoder.layer.1.intermediate.dense.bias\n",
            "bert.encoder.layer.1.output.dense.weight\n",
            "bert.encoder.layer.1.output.dense.bias\n",
            "bert.encoder.layer.1.output.LayerNorm.weight\n",
            "bert.encoder.layer.1.output.LayerNorm.bias\n",
            "bert.encoder.layer.2.attention.self.query.weight\n",
            "bert.encoder.layer.2.attention.self.query.bias\n",
            "bert.encoder.layer.2.attention.self.key.weight\n",
            "bert.encoder.layer.2.attention.self.key.bias\n",
            "bert.encoder.layer.2.attention.self.value.weight\n",
            "bert.encoder.layer.2.attention.self.value.bias\n",
            "bert.encoder.layer.2.attention.output.dense.weight\n",
            "bert.encoder.layer.2.attention.output.dense.bias\n",
            "bert.encoder.layer.2.attention.output.LayerNorm.weight\n",
            "bert.encoder.layer.2.attention.output.LayerNorm.bias\n",
            "bert.encoder.layer.2.intermediate.dense.weight\n",
            "bert.encoder.layer.2.intermediate.dense.bias\n",
            "bert.encoder.layer.2.output.dense.weight\n",
            "bert.encoder.layer.2.output.dense.bias\n",
            "bert.encoder.layer.2.output.LayerNorm.weight\n",
            "bert.encoder.layer.2.output.LayerNorm.bias\n",
            "bert.encoder.layer.3.attention.self.query.weight\n",
            "bert.encoder.layer.3.attention.self.query.bias\n",
            "bert.encoder.layer.3.attention.self.key.weight\n",
            "bert.encoder.layer.3.attention.self.key.bias\n",
            "bert.encoder.layer.3.attention.self.value.weight\n",
            "bert.encoder.layer.3.attention.self.value.bias\n",
            "bert.encoder.layer.3.attention.output.dense.weight\n",
            "bert.encoder.layer.3.attention.output.dense.bias\n",
            "bert.encoder.layer.3.attention.output.LayerNorm.weight\n",
            "bert.encoder.layer.3.attention.output.LayerNorm.bias\n",
            "bert.encoder.layer.3.intermediate.dense.weight\n",
            "bert.encoder.layer.3.intermediate.dense.bias\n",
            "bert.encoder.layer.3.output.dense.weight\n",
            "bert.encoder.layer.3.output.dense.bias\n",
            "bert.encoder.layer.3.output.LayerNorm.weight\n",
            "bert.encoder.layer.3.output.LayerNorm.bias\n",
            "bert.encoder.layer.4.attention.self.query.weight\n",
            "bert.encoder.layer.4.attention.self.query.bias\n",
            "bert.encoder.layer.4.attention.self.key.weight\n",
            "bert.encoder.layer.4.attention.self.key.bias\n",
            "bert.encoder.layer.4.attention.self.value.weight\n",
            "bert.encoder.layer.4.attention.self.value.bias\n",
            "bert.encoder.layer.4.attention.output.dense.weight\n",
            "bert.encoder.layer.4.attention.output.dense.bias\n",
            "bert.encoder.layer.4.attention.output.LayerNorm.weight\n",
            "bert.encoder.layer.4.attention.output.LayerNorm.bias\n",
            "bert.encoder.layer.4.intermediate.dense.weight\n",
            "bert.encoder.layer.4.intermediate.dense.bias\n",
            "bert.encoder.layer.4.output.dense.weight\n",
            "bert.encoder.layer.4.output.dense.bias\n",
            "bert.encoder.layer.4.output.LayerNorm.weight\n",
            "bert.encoder.layer.4.output.LayerNorm.bias\n",
            "bert.encoder.layer.5.attention.self.query.weight\n",
            "bert.encoder.layer.5.attention.self.query.bias\n",
            "bert.encoder.layer.5.attention.self.key.weight\n",
            "bert.encoder.layer.5.attention.self.key.bias\n",
            "bert.encoder.layer.5.attention.self.value.weight\n",
            "bert.encoder.layer.5.attention.self.value.bias\n",
            "bert.encoder.layer.5.attention.output.dense.weight\n",
            "bert.encoder.layer.5.attention.output.dense.bias\n",
            "bert.encoder.layer.5.attention.output.LayerNorm.weight\n",
            "bert.encoder.layer.5.attention.output.LayerNorm.bias\n",
            "bert.encoder.layer.5.intermediate.dense.weight\n",
            "bert.encoder.layer.5.intermediate.dense.bias\n",
            "bert.encoder.layer.5.output.dense.weight\n",
            "bert.encoder.layer.5.output.dense.bias\n",
            "bert.encoder.layer.5.output.LayerNorm.weight\n",
            "bert.encoder.layer.5.output.LayerNorm.bias\n",
            "bert.encoder.layer.6.attention.self.query.weight\n",
            "bert.encoder.layer.6.attention.self.query.bias\n",
            "bert.encoder.layer.6.attention.self.key.weight\n",
            "bert.encoder.layer.6.attention.self.key.bias\n",
            "bert.encoder.layer.6.attention.self.value.weight\n",
            "bert.encoder.layer.6.attention.self.value.bias\n",
            "bert.encoder.layer.6.attention.output.dense.weight\n",
            "bert.encoder.layer.6.attention.output.dense.bias\n",
            "bert.encoder.layer.6.attention.output.LayerNorm.weight\n",
            "bert.encoder.layer.6.attention.output.LayerNorm.bias\n",
            "bert.encoder.layer.6.intermediate.dense.weight\n",
            "bert.encoder.layer.6.intermediate.dense.bias\n",
            "bert.encoder.layer.6.output.dense.weight\n",
            "bert.encoder.layer.6.output.dense.bias\n",
            "bert.encoder.layer.6.output.LayerNorm.weight\n",
            "bert.encoder.layer.6.output.LayerNorm.bias\n",
            "bert.encoder.layer.7.attention.self.query.weight\n",
            "bert.encoder.layer.7.attention.self.query.bias\n",
            "bert.encoder.layer.7.attention.self.key.weight\n",
            "bert.encoder.layer.7.attention.self.key.bias\n",
            "bert.encoder.layer.7.attention.self.value.weight\n",
            "bert.encoder.layer.7.attention.self.value.bias\n",
            "bert.encoder.layer.7.attention.output.dense.weight\n",
            "bert.encoder.layer.7.attention.output.dense.bias\n",
            "bert.encoder.layer.7.attention.output.LayerNorm.weight\n",
            "bert.encoder.layer.7.attention.output.LayerNorm.bias\n",
            "bert.encoder.layer.7.intermediate.dense.weight\n",
            "bert.encoder.layer.7.intermediate.dense.bias\n",
            "bert.encoder.layer.7.output.dense.weight\n",
            "bert.encoder.layer.7.output.dense.bias\n",
            "bert.encoder.layer.7.output.LayerNorm.weight\n",
            "bert.encoder.layer.7.output.LayerNorm.bias\n",
            "bert.encoder.layer.8.attention.self.query.weight\n",
            "bert.encoder.layer.8.attention.self.query.bias\n",
            "bert.encoder.layer.8.attention.self.key.weight\n",
            "bert.encoder.layer.8.attention.self.key.bias\n",
            "bert.encoder.layer.8.attention.self.value.weight\n",
            "bert.encoder.layer.8.attention.self.value.bias\n",
            "bert.encoder.layer.8.attention.output.dense.weight\n",
            "bert.encoder.layer.8.attention.output.dense.bias\n",
            "bert.encoder.layer.8.attention.output.LayerNorm.weight\n",
            "bert.encoder.layer.8.attention.output.LayerNorm.bias\n",
            "bert.encoder.layer.8.intermediate.dense.weight\n",
            "bert.encoder.layer.8.intermediate.dense.bias\n",
            "bert.encoder.layer.8.output.dense.weight\n",
            "bert.encoder.layer.8.output.dense.bias\n",
            "bert.encoder.layer.8.output.LayerNorm.weight\n",
            "bert.encoder.layer.8.output.LayerNorm.bias\n",
            "bert.encoder.layer.9.attention.self.query.weight\n",
            "bert.encoder.layer.9.attention.self.query.bias\n",
            "bert.encoder.layer.9.attention.self.key.weight\n",
            "bert.encoder.layer.9.attention.self.key.bias\n",
            "bert.encoder.layer.9.attention.self.value.weight\n",
            "bert.encoder.layer.9.attention.self.value.bias\n",
            "bert.encoder.layer.9.attention.output.dense.weight\n",
            "bert.encoder.layer.9.attention.output.dense.bias\n",
            "bert.encoder.layer.9.attention.output.LayerNorm.weight\n",
            "bert.encoder.layer.9.attention.output.LayerNorm.bias\n",
            "bert.encoder.layer.9.intermediate.dense.weight\n",
            "bert.encoder.layer.9.intermediate.dense.bias\n",
            "bert.encoder.layer.9.output.dense.weight\n",
            "bert.encoder.layer.9.output.dense.bias\n",
            "bert.encoder.layer.9.output.LayerNorm.weight\n",
            "bert.encoder.layer.9.output.LayerNorm.bias\n",
            "bert.encoder.layer.10.attention.self.query.weight\n",
            "bert.encoder.layer.10.attention.self.query.bias\n",
            "bert.encoder.layer.10.attention.self.key.weight\n",
            "bert.encoder.layer.10.attention.self.key.bias\n",
            "bert.encoder.layer.10.attention.self.value.weight\n",
            "bert.encoder.layer.10.attention.self.value.bias\n",
            "bert.encoder.layer.10.attention.output.dense.weight\n",
            "bert.encoder.layer.10.attention.output.dense.bias\n",
            "bert.encoder.layer.10.attention.output.LayerNorm.weight\n",
            "bert.encoder.layer.10.attention.output.LayerNorm.bias\n",
            "bert.encoder.layer.10.intermediate.dense.weight\n",
            "bert.encoder.layer.10.intermediate.dense.bias\n",
            "bert.encoder.layer.10.output.dense.weight\n",
            "bert.encoder.layer.10.output.dense.bias\n",
            "bert.encoder.layer.10.output.LayerNorm.weight\n",
            "bert.encoder.layer.10.output.LayerNorm.bias\n",
            "bert.encoder.layer.11.attention.self.query.weight\n",
            "bert.encoder.layer.11.attention.self.query.bias\n",
            "bert.encoder.layer.11.attention.self.key.weight\n",
            "bert.encoder.layer.11.attention.self.key.bias\n",
            "bert.encoder.layer.11.attention.self.value.weight\n",
            "bert.encoder.layer.11.attention.self.value.bias\n",
            "bert.encoder.layer.11.attention.output.dense.weight\n",
            "bert.encoder.layer.11.attention.output.dense.bias\n",
            "bert.encoder.layer.11.attention.output.LayerNorm.weight\n",
            "bert.encoder.layer.11.attention.output.LayerNorm.bias\n",
            "bert.encoder.layer.11.intermediate.dense.weight\n",
            "bert.encoder.layer.11.intermediate.dense.bias\n",
            "bert.encoder.layer.11.output.dense.weight\n",
            "bert.encoder.layer.11.output.dense.bias\n",
            "bert.encoder.layer.11.output.LayerNorm.weight\n",
            "bert.encoder.layer.11.output.LayerNorm.bias\n",
            "bert.pooler.dense.weight\n",
            "bert.pooler.dense.bias\n",
            "convs.0.weight\n",
            "convs.0.bias\n",
            "convs.1.weight\n",
            "convs.1.bias\n",
            "convs.2.weight\n",
            "convs.2.bias\n",
            "attn.in_proj_weight\n",
            "attn.in_proj_bias\n",
            "attn.out_proj.weight\n",
            "attn.out_proj.bias\n",
            "fc.weight\n",
            "fc.bias\n"
          ]
        }
      ],
      "source": [
        "for name, param in model.named_parameters():\n",
        "    if param.requires_grad:\n",
        "        print(name)"
      ]
    },
    {
      "cell_type": "code",
      "execution_count": 47,
      "id": "b3c957e3",
      "metadata": {},
      "outputs": [
        {
          "name": "stderr",
          "output_type": "stream",
          "text": [
            "Some weights of XLMRobertaModel were not initialized from the model checkpoint at htdung167/ViLegalBERT-v0 and are newly initialized: ['pooler.dense.bias', 'pooler.dense.weight']\n",
            "You should probably TRAIN this model on a down-stream task to be able to use it for predictions and inference.\n"
          ]
        },
        {
          "name": "stdout",
          "output_type": "stream",
          "text": [
            "Thời gian trung bình mỗi suy luận: 30.38 ms\n",
            "Tốc độ ~ 32.92 câu/giây\n",
            "\n",
            "✅ Test Loss: 0.1329\n",
            "\n",
            "===== 📋 Classification Report =====\n",
            "                    precision    recall  f1-score   support\n",
            "\n",
            "     VN_lớn_hơn_14     1.0000    1.0000    1.0000        37\n",
            "                NN     0.9559    0.9701    0.9630        67\n",
            "      VN_bé_hơn_14     0.9839    0.9683    0.9760        63\n",
            "Không có thông tin     0.9675    0.9675    0.9675       123\n",
            "\n",
            "          accuracy                         0.9724       290\n",
            "         macro avg     0.9768    0.9765    0.9766       290\n",
            "      weighted avg     0.9725    0.9724    0.9724       290\n",
            "\n"
          ]
        },
        {
          "name": "stderr",
          "output_type": "stream",
          "text": [
            "C:\\Users\\Quyen\\AppData\\Local\\Temp\\ipykernel_19524\\4137702053.py:56: UserWarning: Glyph 128269 (\\N{LEFT-POINTING MAGNIFYING GLASS}) missing from font(s) DejaVu Sans.\n",
            "  plt.tight_layout()\n",
            "c:\\Users\\Quyen\\miniconda3\\envs\\ml\\Lib\\site-packages\\IPython\\core\\pylabtools.py:170: UserWarning: Glyph 128269 (\\N{LEFT-POINTING MAGNIFYING GLASS}) missing from font(s) DejaVu Sans.\n",
            "  fig.canvas.print_figure(bytes_io, **kw)\n"
          ]
        },
        {
          "data": {
            "image/png": "[encoded data removed]",
            "text/plain": [
              "<Figure size 700x600 with 2 Axes>"
            ]
          },
          "metadata": {},
          "output_type": "display_data"
        }
      ],
      "source": [
        "model = ViLegalCNN_Attn(MODEL_NAME, num_labels).to(device)\n",
        "\n",
        "model.load_state_dict(torch.load(\"models/baseline_vilegalbert_cnn_attn.pt\"))\n",
        "model.to(device)\n",
        "model.eval()\n",
        "\n",
        "def eval_model(model, dataloader, device):\n",
        "    preds, labels = [], []\n",
        "    total_loss, total_correct = 0, 0\n",
        "    criterion = torch.nn.CrossEntropyLoss()\n",
        "\n",
        "    start = time.time()\n",
        "\n",
        "    with torch.no_grad():\n",
        "        for batch in dataloader:\n",
        "            input_ids = batch[\"input_ids\"].to(device)\n",
        "            attention_mask = batch[\"attention_mask\"].to(device)\n",
        "            label = batch[\"labels\"].to(device)\n",
        "\n",
        "            outputs = model(input_ids=input_ids, attention_mask=attention_mask)\n",
        "            logits = outputs\n",
        "            loss = criterion(logits, label)\n",
        "\n",
        "            total_loss += loss.item()\n",
        "            preds.extend(torch.argmax(logits, dim=1).cpu().numpy())\n",
        "            labels.extend(label.cpu().numpy())\n",
        "\n",
        "    end = time.time()\n",
        "    avg_time = (end - start) / 100\n",
        "    print(f\"Thời gian trung bình mỗi suy luận: {avg_time*1000:.2f} ms\")\n",
        "    print(f\"Tốc độ ~ {1/avg_time:.2f} câu/giây\")\n",
        "\n",
        "    avg_loss = total_loss / len(dataloader)\n",
        "    return avg_loss, np.array(preds), np.array(labels)\n",
        "\n",
        "test_loss, test_preds, test_labels = eval_model(model, test_loader, device)\n",
        "\n",
        "print(f\"\\n✅ Test Loss: {test_loss:.4f}\")\n",
        "\n",
        "target_names = [\"VN_lớn_hơn_14\", \"NN\", \"VN_bé_hơn_14\", \"Không có thông tin\"]\n",
        "\n",
        "print(\"\\n===== 📋 Classification Report =====\")\n",
        "print(classification_report(\n",
        "    test_labels, \n",
        "    test_preds, \n",
        "    target_names=target_names, \n",
        "    digits=4\n",
        "))\n",
        "\n",
        "cm = confusion_matrix(test_labels, test_preds)\n",
        "plt.figure(figsize=(7, 6))\n",
        "sns.heatmap(cm, annot=True, fmt=\"d\", cmap=\"Blues\", xticklabels=target_names, yticklabels=target_names)\n",
        "plt.title(\"🔍 Confusion Matrix – ViLegalBERT Evaluation\")\n",
        "plt.xlabel(\"Predicted Label\")\n",
        "plt.ylabel(\"True Label\")\n",
        "plt.tight_layout()\n",
        "plt.show()\n"
      ]
    },
    {
      "cell_type": "code",
      "execution_count": 49,
      "id": "d31f36da",
      "metadata": {},
      "outputs": [
        {
          "name": "stdout",
          "output_type": "stream",
          "text": [
            "Tổng số tham số: 280852420\n"
          ]
        }
      ],
      "source": [
        "params = sum(p.numel() for p in model.parameters())\n",
        "print(f\"Tổng số tham số: {params}\")"
      ]
    },
    {
      "cell_type": "code",
      "execution_count": 48,
      "id": "dd2baf3b",
      "metadata": {},
      "outputs": [
        {
          "name": "stdout",
          "output_type": "stream",
          "text": [
            "Câu hỏi: Việc thay đổi nơi ở của một người có ảnh hưởng như thế nào đến việc đăng ký cư trú của họ, và người này phải làm gì để đảm bảo tuân thủ đúng pháp luật?\n",
            "Dự đoán nhãn: VN_lớn_hơn_14\n"
          ]
        }
      ],
      "source": [
        "# Kiểm tra mô hình với câu mới\n",
        "def predict(text, model, tokenizer):\n",
        "    model.eval()\n",
        "    inputs = tokenizer(text, return_tensors=\"pt\", truncation=True, padding=\"max_length\", max_length=256)\n",
        "    inputs = {k: v.to(device) for k, v in inputs.items()}\n",
        "    with torch.no_grad():\n",
        "        outputs = model(**inputs)\n",
        "        logits = outputs\n",
        "        preds = torch.argmax(logits, dim=-1).cpu().numpy()\n",
        "    return le.inverse_transform(preds)[0]\n",
        "\n",
        "text = \"Việc thay đổi nơi ở của một người có ảnh hưởng như thế nào đến việc đăng ký cư trú của họ, và người này phải làm gì để đảm bảo tuân thủ đúng pháp luật?\"\n",
        "print(\"Câu hỏi:\", text)\n",
        "print(\"Dự đoán nhãn:\", predict(text, model, tokenizer))"
      ]
    }
  ],
  "metadata": {
    "accelerator": "GPU",
    "colab": {
      "gpuType": "T4",
      "provenance": []
    },
    "kernelspec": {
      "display_name": "ml",
      "language": "python",
      "name": "python3"
    },
    "language_info": {
      "codemirror_mode": {
        "name": "ipython",
        "version": 3
      },
      "file_extension": ".py",
      "mimetype": "text/x-python",
      "name": "python",
      "nbconvert_exporter": "python",
      "pygments_lexer": "ipython3",
      "version": "3.12.11"
    }
  },
  "nbformat": 4,
  "nbformat_minor": 5
}
